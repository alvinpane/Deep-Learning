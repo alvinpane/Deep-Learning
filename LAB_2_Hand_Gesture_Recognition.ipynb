{
 "cells": [
  {
   "cell_type": "markdown",
   "metadata": {
    "id": "X6WDvajSqIDs"
   },
   "source": [
    "# Lab 2: Hand Gesture Recognition - [71pt]\n",
    "\n",
    "This lab will be completed in two parts. In Part A you will gain experience gathering your own data set (specifically images of hand gestures), and understand the challenges involved in the data cleaning process. In Part B you will train a convolutional neural network to make classifications on different hand gestures. By the end of the lab, you should be able to:\n",
    "\n",
    "1. Generate and preprocess your own data\n",
    "2. Load and split data for training, validation and testing\n",
    "3. Train a Convolutional Neural Network\n",
    "4. Apply transfer learning to improve your model\n",
    "\n",
    "Note that for this lab we will not be providing you with any starter code. You should be able to take the code used in previous labs, tutorials and lectures and modify it accordingly to complete the tasks outlined below.\n",
    "\n",
    "### What to submit\n",
    "\n",
    "**Submission for Part A:**  \n",
    "Submit a zip file containing your images. Three images each of American Sign Language gestures for letters A - I (total of 27 images). You will be required to clean the images before submitting them. Details are provided under Part A of the handout.\n",
    "\n",
    "Individual image file names should follow the convention of student-number_Alphabet_file-number.jpg\n",
    "(e.g. 100343434_A_1.jpg).\n",
    "\n",
    "\n",
    "**Submission for Part B:**  \n",
    "Submit an HTML file containing all your code, outputs, and write-up\n",
    "from parts A and B. You can produce a HTML file directly from Google Colab. The Colab instructions are provided at the end of this document.\n",
    "\n",
    "**Do not submit any other files produced by your code.**\n",
    "\n",
    "Include a link to your colab file in your submission.\n",
    "\n",
    "Please use Google Colab to complete this assignment. If you want to use Jupyter Notebook, please complete the assignment and upload your Jupyter Notebook file to Google Colab for submission. "
   ]
  },
  {
   "attachments": {},
   "cell_type": "markdown",
   "metadata": {
    "id": "LfiFE_WOqIDu"
   },
   "source": [
    "## Name : Alvin Pane [1004281118]"
   ]
  },
  {
   "cell_type": "markdown",
   "metadata": {
    "id": "kvTXpH_kqIDy"
   },
   "source": [
    "# Part A. Data Collection [10 pt]\n",
    "\n",
    "So far, we have worked with data sets that have been collected, cleaned, and curated by machine learning\n",
    "researchers and practitioners. Datasets like MNIST and CIFAR are often used as toy examples, both by\n",
    "students and by researchers testing new machine learning models.\n",
    "\n",
    "In the real world, getting a clean dataset is never this easy. Often, more than half the work in applying machine\n",
    "learning algorithms is spent finding, gathering, cleaning, and formatting your data set.\n",
    "\n",
    "The purpose of this lab is to help you gain experience gathering your own data set, and understand the\n",
    "challenges involved in the data cleaning process.\n",
    "\n",
    "### American Sign Language\n",
    "\n",
    "American Sign Language (ASL) is a complete, complex language that employs signs made by moving the\n",
    "hands combined with facial expressions and postures of the body. It is the primary language of many\n",
    "North Americans who are deaf and is one of several communication options used by people who are deaf or\n",
    "hard-of-hearing.\n",
    "\n",
    "The hand gestures representing English alphabet are shown below. This lab focuses on classifying a subset\n",
    "of these hand gesture images using convolutional neural networks. Specifically, given an image of a hand\n",
    "showing one of the letters A-I, we want to detect which letter is being represented.\n",
    "\n",
    "![alt text](https://www.disabled-world.com/pics/1/asl-alphabet.jpg)\n",
    "\n",
    "\n",
    "### Generating Data\n",
    "We will produce the images required for this lab by ourselves. Each student will collect, clean and submit\n",
    "three images each of Americal Sign Language gestures for letters A - I (total of 27 images)\n",
    "Steps involved in data collection:\n",
    "\n",
    "1. Familiarize yourself with American Sign Language gestures for letters from A - I (9 letters).\n",
    "2. Take three pictures at slightly different orientation for each letter gesture using your\n",
    "mobile phone.\n",
    " - Ensure adequate lighting while you are capturing the images.\n",
    " - Use a white wall as your background.\n",
    " - Use your right hand to create gestures (for consistency).\n",
    " - Keep your right hand fairly apart from your body and any other obstructions.\n",
    " - Avoid having shadows on parts of your hand.\n",
    "3. Transfer the images to your laptop for cleaning.\n",
    "\n",
    "### Cleaning Data\n",
    "To simplify the machine learning the task, we will standardize the training images. We will make sure that\n",
    "all our images are of the same size (224 x 224 pixels RGB), and have the hand in the center of the cropped\n",
    "regions.\n",
    "\n",
    "You may use the following applications to crop and resize your images:\n",
    "\n",
    "**Mac**\n",
    "- Use Preview:\n",
    "– Holding down CMD + Shift will keep a square aspect ratio while selecting the hand area.\n",
    "– Resize to 224x224 pixels.\n",
    "\n",
    "**Windows 10**\n",
    "- Use Photos app to edit and crop the image and keep the aspect ratio a square.\n",
    "- Use Paint to resize the image to the final image size of 224x224 pixels.\n",
    "\n",
    "**Linux**\n",
    "- You can use GIMP, imagemagick, or other tools of your choosing.\n",
    "You may also use online tools such as http://picresize.com\n",
    "All the above steps are illustrative only. You need not follow these steps but following these will ensure that\n",
    "you produce a good quality dataset. You will be judged based on the quality of the images alone.\n",
    "Please do not edit your photos in any other way. You should not need to change the aspect ratio of your\n",
    "image. You also should not digitally remove the background or shadows—instead, take photos with a white\n",
    "background and minimal shadows.\n",
    "\n",
    "### Accepted Images\n",
    "Images will be accepted and graded based on the criteria below\n",
    "1. The final image should be size 224x224 pixels (RGB).\n",
    "2. The file format should be a .jpg file.\n",
    "3. The hand should be approximately centered on the frame.\n",
    "4. The hand should not be obscured or cut off.\n",
    "5. The photos follows the ASL gestures posted earlier.\n",
    "6. The photos were not edited in any other way (e.g. no electronic removal of shadows or background).\n",
    "\n",
    "### Submission\n",
    "Submit a zip file containing your images. There should be a total of 27 images (3 for each category)\n",
    "1. Individual image file names should follow the convention of student-number_Alphabet_file-number.jpg\n",
    "(e.g. 100343434_A_1.jpg)\n",
    "2. Zip all the images together and name it with the following convention: last-name_student-number.zip\n",
    "(e.g. last-name_100343434.zip).\n",
    "3. Submit the zipped folder.\n",
    "We will be anonymizing and combining the images that everyone submits. We will announce when the\n",
    "combined data set will be available for download.\n",
    "\n",
    "![alt text](https://github.com/UTNeural/APS360/blob/master/Gesture%20Images.PNG?raw=true)"
   ]
  },
  {
   "cell_type": "markdown",
   "metadata": {
    "id": "bJxMgWGNqID2"
   },
   "source": [
    "# Part B. Building a CNN [61 pt]\n",
    "\n",
    "For this lab, we are not going to give you any starter code. You will be writing a convolutional neural network\n",
    "from scratch. You are welcome to use any code from previous labs, lectures and tutorials. You should also\n",
    "write your own code.\n",
    "\n",
    "You may use the PyTorch documentation freely. You might also find online tutorials helpful. However, all\n",
    "code that you submit must be your own.\n",
    "\n",
    "Make sure that your code is vectorized, and does not contain obvious inefficiencies (for example, unecessary\n",
    "for loops, or unnecessary calls to unsqueeze()). Ensure enough comments are included in the code so that\n",
    "your TA can understand what you are doing. It is your responsibility to show that you understand what you\n",
    "write.\n",
    "\n",
    "**This is much more challenging and time-consuming than the previous labs.** Make sure that you\n",
    "give yourself plenty of time by starting early."
   ]
  },
  {
   "cell_type": "markdown",
   "metadata": {
    "id": "MiDuQaAh56sT"
   },
   "source": [
    "## Part B.1 Data Loading and Splitting [5 pt]\n",
    "\n",
    "Download the anonymized data provided on Quercus. Split the data into training, validation, and test sets.\n",
    "\n",
    "Note: Data splitting is not as trivial in this lab. We want our test set to closely resemble the setting in which\n",
    "our model will be used. In particular, our test set should contain hands that are never seen in training!\n",
    "\n",
    "Explain how you split the data, either by describing what you did, or by showing the code that you used.\n",
    "Justify your choice of splitting strategy. How many training, validation, and test images do you have?\n",
    "\n",
    "For loading the data, you can use plt.imread, or any other method that you choose. You may find\n",
    "torchvision.datasets.ImageFolder helpful. (see https://pytorch.org/vision/stable/generated/torchvision.datasets.ImageFolder.html) "
   ]
  },
  {
   "cell_type": "code",
   "execution_count": 10,
   "metadata": {},
   "outputs": [],
   "source": [
    "#Load Imports\n",
    "import torch\n",
    "import torchvision\n",
    "import torchvision.transforms as transforms\n",
    "import torch.nn as nn\n",
    "import numpy as np\n",
    "import torch.optim as optim\n",
    "import time\n",
    "\n",
    "\n",
    "import torch.nn.functional as F\n",
    "import torch.optim as optim\n",
    "\n",
    "from torch.utils.data.sampler import SubsetRandomSampler\n",
    "\n",
    "import numpy as np\n",
    "\n",
    "np.random.seed(5)\n"
   ]
  },
  {
   "cell_type": "code",
   "execution_count": null,
   "metadata": {},
   "outputs": [],
   "source": [
    "#There are 102 hands in total, and we need some of these to be held out for testing. Thus we will designate hands #82 - #102 as test set hands\n",
    "#and will manually seperate them into a test set folder. This represents approximately 20% of all the hands. Since the number of pictures per hand\n",
    "#per letter varies, we will calculate the size of the datasets after loading. "
   ]
  },
  {
   "cell_type": "code",
   "execution_count": 108,
   "metadata": {
    "id": "WBrH5kBqRLa6"
   },
   "outputs": [],
   "source": [
    "\n",
    "def load_data(batch_size, train_root='C:\\\\Users\\\\alvipane\\\\Desktop\\\\Machine Learning\\\\1517\\\\Lab\\\\2\\\\Lab_2_Hand_Gesture_Dataset\\\\Lab_3b_Gesture_Dataset',test_root=\"C:\\\\Users\\\\alvipane\\\\Desktop\\\\Machine Learning\\\\1517\\\\Lab\\\\2\\\\Lab_2_Hand_Gesture_Dataset\\\\test\"):\n",
    "    # Define the transformations to apply to the images\n",
    "    transform = transforms.Compose([\n",
    "        transforms.Resize((224, 224)),\n",
    "        transforms.ToTensor(),\n",
    "        transforms.Normalize((0.5, 0.5, 0.5), (0.5, 0.5, 0.5))\n",
    "    ])\n",
    "\n",
    "    #LOAD TRAINING\n",
    "    # Load the training dataset using ImageFolder\n",
    "    dataset = torchvision.datasets.ImageFolder(root=train_root, transform=transform)\n",
    "\n",
    "    # Split the dataset into training and validation sets\n",
    "    train_size = int(0.8 * len(dataset))\n",
    "    val_size = len(dataset) - train_size\n",
    "    train_dataset, val_dataset = torch.utils.data.random_split(dataset, [train_size, val_size])\n",
    "\n",
    "    # Use DataLoader to load the data in batches\n",
    "    train_loader = torch.utils.data.DataLoader(train_dataset, batch_size=batch_size, shuffle=True) #64 image per batch\n",
    "    val_loader = torch.utils.data.DataLoader(val_dataset, batch_size=batch_size, shuffle=False)\n",
    "\n",
    "    #LOAD TEST\n",
    "\n",
    "    # Load the test dataset using ImageFolder\n",
    "    test_dataset = torchvision.datasets.ImageFolder(test_root, transform=transform)\n",
    "\n",
    "    # Use DataLoader to load the data in batches\n",
    "    test_loader = torch.utils.data.DataLoader(test_dataset, batch_size=batch_size, shuffle=False)\n",
    "\n",
    "    return train_loader, val_loader, test_loader"
   ]
  },
  {
   "cell_type": "code",
   "execution_count": 109,
   "metadata": {},
   "outputs": [
    {
     "name": "stdout",
     "output_type": "stream",
     "text": [
      "1523\n",
      "527\n",
      "381\n"
     ]
    }
   ],
   "source": [
    "train_loader, val_loader, test_loader = load_data(batch_size=1)\n",
    "\n",
    "print(len(train_loader.dataset))\n",
    "print(len(test_loader.dataset))\n",
    "print(len(val_loader.dataset))"
   ]
  },
  {
   "cell_type": "code",
   "execution_count": null,
   "metadata": {},
   "outputs": [],
   "source": [
    "#thus there 1523 images in the training set, 527 images in the test set and 381 images in the validation set"
   ]
  },
  {
   "cell_type": "markdown",
   "metadata": {
    "id": "5VWX4DGY5gQE"
   },
   "source": [
    "## Part B.2 Model Building and Sanity Checking [9 pt]\n",
    "\n",
    "### Part B.2.a Convolutional Network - 3 pt\n",
    "\n",
    "Build a convolutional neural network model that takes the (224x224 RGB) image as input, and predicts the gesture\n",
    "letter. Your model should be a subclass of nn.Module. Explain your choice of neural network architecture: how\n",
    "many layers did you choose? What types of layers did you use? Were they fully-connected or convolutional?\n",
    "What about other decisions like pooling layers, activation functions, number of channels / hidden units?"
   ]
  },
  {
   "cell_type": "code",
   "execution_count": 212,
   "metadata": {},
   "outputs": [
    {
     "name": "stdout",
     "output_type": "stream",
     "text": [
      "EXPLANATION OF MODEL:\n",
      "\n",
      "The chosen model has two convolutional layers, followed by two max-pooling layers, and two fully connected layers. The two convolutional layers have 32 and 64 filters, respectively, with a kernel size of 3, stride of 1, and padding of 1. The activation function used is ReLU, which is a common choice for CNNs. The two max-pooling layers use a kernel size of 2 and a stride of 2 to reduce the spatial dimensions of the feature mappings.\n",
      "\n",
      "The two fully connected layers have 1024 and 9 hidden units. The first fully connected layer takes as input the flattened output of the second max-pooling layer, which has a size of 64 x 56 x 56. A dropout layer is applied before the first fully connected layer with a rate of 0.5, which helps prevent overfitting.\n",
      "\n",
      "Overall, this architecture is well-suited for the hand gesture recognition task, as it is able to extract relevant features from the input images using convolutional layers and then classify the gestures using fully connected layers. The dropout layer also helps to prevent overfitting by randomly dropping out some of the features during training.\n"
     ]
    }
   ],
   "source": [
    "print('''EXPLANATION OF MODEL:\n",
    "\n",
    "The chosen model has two convolutional layers, followed by two max-pooling layers, and two fully connected layers. The two convolutional layers have 32 and 64 filters, respectively, with a kernel size of 3, stride of 1, and padding of 1. The activation function used is ReLU, which is a common choice for CNNs. The two max-pooling layers use a kernel size of 2 and a stride of 2 to reduce the spatial dimensions of the feature mappings.\n",
    "\n",
    "The two fully connected layers have 1024 and 9 hidden units. The first fully connected layer takes as input the flattened output of the second max-pooling layer, which has a size of 64 x 56 x 56. A dropout layer is applied before the first fully connected layer with a rate of 0.5, which helps prevent overfitting.\n",
    "\n",
    "Overall, this architecture is well-suited for the hand gesture recognition task, as it is able to extract relevant features from the input images using convolutional layers and then classify the gestures using fully connected layers. The dropout layer also helps to prevent overfitting by randomly dropping out some of the features during training.''')"
   ]
  },
  {
   "cell_type": "code",
   "execution_count": 169,
   "metadata": {
    "id": "2dtx1z5951fS"
   },
   "outputs": [],
   "source": [
    "\n",
    "# Create the neural network model\n",
    "class GestureRecognitionModel(nn.Module):\n",
    "    def __init__(self,dropout_rate=0.5):\n",
    "        super(GestureRecognitionModel, self).__init__()\n",
    "        self.conv1 = nn.Conv2d(3, 32, kernel_size=3, stride=1, padding=1)\n",
    "        self.relu1 = nn.ReLU()\n",
    "        self.pool1 = nn.MaxPool2d(kernel_size=2, stride=2)\n",
    "        self.conv2 = nn.Conv2d(32, 64, kernel_size=3, stride=1, padding=1)\n",
    "        self.relu2 = nn.ReLU()\n",
    "        self.pool2 = nn.MaxPool2d(kernel_size=2, stride=2)\n",
    "        self.fc1 = nn.Linear(64 * 56 * 56, 1024)\n",
    "        self.relu3 = nn.ReLU()\n",
    "        self.fc2 = nn.Linear(1024, 9)\n",
    "        self.name = 'GestureR1'\n",
    "        self.dropout = nn.Dropout(dropout_rate)\n",
    "        \n",
    "    def forward(self, x):\n",
    "        x = self.conv1(x)\n",
    "        x = self.relu1(x)\n",
    "        x = self.pool1(x)\n",
    "        x = self.conv2(x)\n",
    "        x = self.relu2(x)\n",
    "        x = self.pool2(x)\n",
    "        x = x.view(-1, 64 * 56 * 56)\n",
    "        x = self.dropout(x)\n",
    "        x = self.fc1(x)\n",
    "        #x = self.dropout(x)\n",
    "        x = self.relu3(x)\n",
    "        x = self.fc2(x)\n",
    "        return x\n",
    "\n",
    "\n",
    "# Create the neural network model with diff dropout rate\n",
    "class GestureRecognitionModel025(nn.Module):\n",
    "    def __init__(self,dropout_rate=0.25):\n",
    "        super(GestureRecognitionModel025, self).__init__()\n",
    "        self.conv1 = nn.Conv2d(3, 32, kernel_size=3, stride=1, padding=1)\n",
    "        self.relu1 = nn.ReLU()\n",
    "        self.pool1 = nn.MaxPool2d(kernel_size=2, stride=2)\n",
    "        self.conv2 = nn.Conv2d(32, 64, kernel_size=3, stride=1, padding=1)\n",
    "        self.relu2 = nn.ReLU()\n",
    "        self.pool2 = nn.MaxPool2d(kernel_size=2, stride=2)\n",
    "        self.fc1 = nn.Linear(64 * 56 * 56, 1024)\n",
    "        self.relu3 = nn.ReLU()\n",
    "        self.fc2 = nn.Linear(1024, 9)\n",
    "        self.name = 'GestureR1'\n",
    "        self.dropout = nn.Dropout(dropout_rate)\n",
    "        \n",
    "    def forward(self, x):\n",
    "        x = self.conv1(x)\n",
    "        x = self.relu1(x)\n",
    "        x = self.pool1(x)\n",
    "        x = self.conv2(x)\n",
    "        x = self.relu2(x)\n",
    "        x = self.pool2(x)\n",
    "        x = x.view(-1, 64 * 56 * 56)\n",
    "        x = self.dropout(x)\n",
    "        x = self.fc1(x)\n",
    "        #x = self.dropout(x)\n",
    "        x = self.relu3(x)\n",
    "        x = self.fc2(x)\n",
    "        return x\n",
    "\n",
    "# Create the neural network model\n",
    "class GestureRecognitionModel015(nn.Module):\n",
    "    def __init__(self,dropout_rate=0.15):\n",
    "        super(GestureRecognitionModel015, self).__init__()\n",
    "        self.conv1 = nn.Conv2d(3, 32, kernel_size=3, stride=1, padding=1)\n",
    "        self.relu1 = nn.ReLU()\n",
    "        self.pool1 = nn.MaxPool2d(kernel_size=2, stride=2)\n",
    "        self.conv2 = nn.Conv2d(32, 64, kernel_size=3, stride=1, padding=1)\n",
    "        self.relu2 = nn.ReLU()\n",
    "        self.pool2 = nn.MaxPool2d(kernel_size=2, stride=2)\n",
    "        self.fc1 = nn.Linear(64 * 56 * 56, 1024)\n",
    "        self.relu3 = nn.ReLU()\n",
    "        self.fc2 = nn.Linear(1024, 9)\n",
    "        self.name = 'GestureR1'\n",
    "        self.dropout = nn.Dropout(dropout_rate)\n",
    "        \n",
    "    def forward(self, x):\n",
    "        x = self.conv1(x)\n",
    "        x = self.relu1(x)\n",
    "        x = self.pool1(x)\n",
    "        x = self.conv2(x)\n",
    "        x = self.relu2(x)\n",
    "        x = self.pool2(x)\n",
    "        x = x.view(-1, 64 * 56 * 56)\n",
    "        x = self.dropout(x)\n",
    "        x = self.fc1(x)\n",
    "        #x = self.dropout(x)\n",
    "        x = self.relu3(x)\n",
    "        x = self.fc2(x)\n",
    "        return x\n"
   ]
  },
  {
   "cell_type": "markdown",
   "metadata": {
    "id": "XeGvelvb515e"
   },
   "source": [
    "### Part B.2.b Training Code - 3 pt\n",
    "\n",
    "Write code that trains your neural network given some training data. Your training code should make it easy\n",
    "to tweak the usual hyperparameters, like batch size, learning rate, and the model object itself. Make sure\n",
    "that you are checkpointing your models from time to time (the frequency is up to you). Explain your choice\n",
    "of loss function and optimizer."
   ]
  },
  {
   "cell_type": "code",
   "execution_count": 43,
   "metadata": {
    "id": "17YTQv4l54W1"
   },
   "outputs": [],
   "source": [
    "def evaluate(net, loader, criterion):\n",
    "    \"\"\" Evaluate the network on the validation set.\n",
    "\n",
    "     Args:\n",
    "         net: PyTorch neural network object\n",
    "         loader: PyTorch data loader for the validation set\n",
    "         criterion: The loss function\n",
    "     Returns:\n",
    "         err: A scalar for the avg classification error over the validation set\n",
    "         loss: A scalar for the average loss function over the validation set\n",
    "     \"\"\"\n",
    "    total_loss = 0.0\n",
    "    total_err = 0.0\n",
    "    total_epoch = 0\n",
    "    for i, data in enumerate(loader, 0):\n",
    "        inputs, labels = data\n",
    "        #labels = normalize_label(labels)  # Convert labels to 0/1\n",
    "        outputs = net(inputs)\n",
    "        loss = criterion(outputs, labels)\n",
    "        #corr = (outputs > 0.0).squeeze().long() != labels\n",
    "        _, predicted = torch.max(outputs.data, 1)\n",
    "        corr = (predicted == labels).sum().item()\n",
    "        total_err += int(corr)\n",
    "        total_loss += loss.item()\n",
    "        total_epoch += len(labels)\n",
    "    acc = 100* float(total_err) / total_epoch\n",
    "    loss = float(total_loss) / (i + 1)\n",
    "    return acc, loss\n",
    "    \n",
    "def train_net(model,train_root,num_epochs, batch_size=64,learning_rate=0.01,momentum=0.9):\n",
    "    #transform = transforms.Compose([\n",
    "    #    transforms.Resize((224, 224)),\n",
    "    #    transforms.ToTensor(),\n",
    "    #    transforms.Normalize((0.5, 0.5, 0.5), (0.5, 0.5, 0.5))\n",
    "    #])\n",
    "    # Load the training data\n",
    "    #train_dataset = torchvision.datasets.ImageFolder(root, transform=transform)\n",
    "    #train_loader = torch.utils.data.DataLoader(train_dataset, batch_size=batch_size, shuffle=True)\n",
    "    #val_loader = torch.utils.data.DataLoader(val_dataset, batch_size=batch_size, shuffle=False)\n",
    "    #test_loader = torch.utils.data.DataLoader(test_dataset, batch_size=batch_size, shuffle=False)\n",
    "    torch.manual_seed(1000)\n",
    "    train_loader, val_loader, test_loader = load_data(batch_size=batch_size,train_root=train_root)\n",
    "\n",
    "    train_acc = np.zeros(num_epochs)\n",
    "    train_loss = np.zeros(num_epochs)\n",
    "    val_err = np.zeros(num_epochs)\n",
    "    val_loss = np.zeros(num_epochs)\n",
    "    # Create the model, loss function and optimizer\n",
    "    #model = GestureRecognitionModel()\n",
    "    criterion = nn.CrossEntropyLoss()\n",
    "    optimizer = optim.SGD(model.parameters(), lr=learning_rate, momentum=momentum)\n",
    "    start_time=time.time()\n",
    "    # Train the model\n",
    "    num_epochs = num_epochs\n",
    "    for epoch in range(num_epochs):\n",
    "        running_loss = 0.0\n",
    "        total_train = 0\n",
    "        correct_train = 0\n",
    "        total_epoch = 0\n",
    "        total_train_loss = 0.0\n",
    "        total_train_err = 0.0\n",
    "        total_epoch = 0\n",
    "        for i, data in enumerate(train_loader, 0):\n",
    "            inputs, labels = data\n",
    "            optimizer.zero_grad()\n",
    "            outputs = model(inputs)\n",
    "            loss = criterion(outputs, labels)\n",
    "            loss.backward()\n",
    "            optimizer.step()\n",
    "            running_loss += loss.item()\n",
    "            _, predicted = torch.max(outputs.data, 1)\n",
    "            total_train += labels.size(0)\n",
    "            correct_train += (predicted == labels).sum().item()\n",
    "            total_epoch += len(labels)\n",
    "        \n",
    "        # Save the current model (checkpoint) to a file\n",
    "        model_path = get_model_name(model.name, batch_size, learning_rate, epoch)\n",
    "        torch.save(model.state_dict(), model_path)\n",
    "        train_accuracy = 100 * correct_train / total_train\n",
    "        train_acc[epoch] = train_accuracy\n",
    "        train_loss[epoch] = running_loss\n",
    "        val_err[epoch], val_loss[epoch] = evaluate(model, val_loader, criterion)\n",
    "        \n",
    "        #########################\n",
    "        print((\"Epoch {}: Train Accuracy: {}, Train loss: {} |\"+\n",
    "               \"Validation Accuracy: {}, Validation loss: {}\").format(\n",
    "                   epoch + 1,\n",
    "                   train_accuracy,\n",
    "                   running_loss,\n",
    "                   val_err[epoch],\n",
    "                   val_loss[epoch]))\n",
    "        # Save the current model (checkpoint) to a file\n",
    "        model_path = get_model_name(model.name, batch_size, learning_rate, epoch)\n",
    "        torch.save(model.state_dict(), model_path)\n",
    "    print('Finished Training')\n",
    "    end_time = time.time()\n",
    "    elapsed_time = end_time - start_time\n",
    "    print(\"Total time elapsed: {:.2f} seconds\".format(elapsed_time))\n",
    "    # Write the train/test loss/err into CSV file for plotting later\n",
    "    epochs = np.arange(1, num_epochs + 1)\n",
    "    np.savetxt(\"{}_train_acc.csv\".format(model_path), train_acc)\n",
    "    np.savetxt(\"{}_train_loss.csv\".format(model_path), train_loss)\n",
    "    np.savetxt(\"{}_val_acc.csv\".format(model_path), val_err)\n",
    "    np.savetxt(\"{}_val_loss.csv\".format(model_path), val_loss)\n",
    "\n",
    "def get_model_name(name, batch_size, learning_rate, epoch):\n",
    "    \"\"\" Generate a name for the model consisting of all the hyperparameter values\n",
    "\n",
    "    Args:\n",
    "        config: Configuration object containing the hyperparameters\n",
    "    Returns:\n",
    "        path: A string with the hyperparameter name and value concatenated\n",
    "    \"\"\"\n",
    "    path = \"model_{0}_bs{1}_lr{2}_epoch{3}\".format(name,\n",
    "                                                   batch_size,\n",
    "                                                   learning_rate,\n",
    "                                                   epoch)\n",
    "    return path"
   ]
  },
  {
   "cell_type": "code",
   "execution_count": 1,
   "metadata": {},
   "outputs": [
    {
     "name": "stdout",
     "output_type": "stream",
     "text": [
      "I selected the cross entropy loss function as it is appropriate for this type of problem, where we want to identify which of the 9 classes an image belongs\n",
      "\n",
      "Stochastic gradient descent was selected as the optimizer with an appropriately tuned learning rate. SGD is advantageous because it has a faster convergence rate than other optimization algorithms and avoids getting stuck in local minima. SGD can also generalize well, which means it can avoid overfitting on the training data by regularizing the model parameters during training.\n"
     ]
    }
   ],
   "source": [
    "########################################\n",
    "\n",
    "#explain optimizer and loss function\n",
    "\n",
    "print('''I selected the cross entropy loss function as it is appropriate for this type of problem, where we want to identify which of the 9 classes an image belongs\n",
    "\n",
    "Stochastic gradient descent was selected as the optimizer with an appropriately tuned learning rate. SGD is advantageous because it has a faster convergence rate than other optimization algorithms and avoids getting stuck in local minima. SGD can also generalize well, which means it can avoid overfitting on the training data by regularizing the model parameters during training.''')\n"
   ]
  },
  {
   "cell_type": "markdown",
   "metadata": {
    "id": "bk1RNgAj54rZ"
   },
   "source": [
    "### Part B.2.c “Overfit” to a Small Dataset - 3 pt\n",
    "\n",
    "One way to sanity check our neural network model and training code is to check whether the model is capable\n",
    "of “overfitting” or “memorizing” a small dataset. A properly constructed CNN with correct training code\n",
    "should be able to memorize the answers to a small number of images quickly.\n",
    "\n",
    "Construct a small dataset (e.g. just the images that you have collected). Then show that your model and\n",
    "training code is capable of memorizing the labels of this small data set.\n",
    "\n",
    "With a large batch size (e.g. the entire small dataset) and learning rate that is not too high, You should be\n",
    "able to obtain a 100% training accuracy on that small dataset relatively quickly (within 200 iterations)."
   ]
  },
  {
   "cell_type": "code",
   "execution_count": 161,
   "metadata": {
    "id": "lXYRBhQO6d3u"
   },
   "outputs": [
    {
     "name": "stdout",
     "output_type": "stream",
     "text": [
      "Epoch 1: Train Accuracy: 4.761904761904762, Train loss: 2.191990852355957 |Validation Accuracy: 0.0, Validation loss: 2.2499959468841553\n",
      "Epoch 2: Train Accuracy: 14.285714285714286, Train loss: 2.147259473800659 |Validation Accuracy: 0.0, Validation loss: 2.3347039222717285\n",
      "Epoch 3: Train Accuracy: 14.285714285714286, Train loss: 2.0916385650634766 |Validation Accuracy: 0.0, Validation loss: 2.459190845489502\n",
      "Epoch 4: Train Accuracy: 14.285714285714286, Train loss: 2.0283493995666504 |Validation Accuracy: 0.0, Validation loss: 2.5914156436920166\n",
      "Epoch 5: Train Accuracy: 14.285714285714286, Train loss: 1.961742639541626 |Validation Accuracy: 0.0, Validation loss: 2.6866109371185303\n",
      "Epoch 6: Train Accuracy: 19.047619047619047, Train loss: 1.8807786703109741 |Validation Accuracy: 0.0, Validation loss: 2.64896297454834\n",
      "Epoch 7: Train Accuracy: 57.142857142857146, Train loss: 1.7561850547790527 |Validation Accuracy: 0.0, Validation loss: 2.5386688709259033\n",
      "Epoch 8: Train Accuracy: 66.66666666666667, Train loss: 1.6132416725158691 |Validation Accuracy: 16.666666666666668, Validation loss: 2.3795456886291504\n",
      "Epoch 9: Train Accuracy: 76.19047619047619, Train loss: 1.4397666454315186 |Validation Accuracy: 16.666666666666668, Validation loss: 2.152980089187622\n",
      "Epoch 10: Train Accuracy: 95.23809523809524, Train loss: 1.220228672027588 |Validation Accuracy: 33.333333333333336, Validation loss: 1.8885942697525024\n",
      "Epoch 11: Train Accuracy: 95.23809523809524, Train loss: 0.9609219431877136 |Validation Accuracy: 33.333333333333336, Validation loss: 1.567884922027588\n",
      "Epoch 12: Train Accuracy: 100.0, Train loss: 0.6834174990653992 |Validation Accuracy: 66.66666666666667, Validation loss: 1.2544595003128052\n",
      "Epoch 13: Train Accuracy: 100.0, Train loss: 0.4178828299045563 |Validation Accuracy: 83.33333333333333, Validation loss: 0.9094697833061218\n",
      "Epoch 14: Train Accuracy: 100.0, Train loss: 0.21408788859844208 |Validation Accuracy: 83.33333333333333, Validation loss: 0.6680526733398438\n",
      "Epoch 15: Train Accuracy: 100.0, Train loss: 0.09215928614139557 |Validation Accuracy: 66.66666666666667, Validation loss: 0.5642109513282776\n",
      "Epoch 16: Train Accuracy: 100.0, Train loss: 0.038935478776693344 |Validation Accuracy: 66.66666666666667, Validation loss: 0.6328497529029846\n",
      "Epoch 17: Train Accuracy: 100.0, Train loss: 0.013787773437798023 |Validation Accuracy: 66.66666666666667, Validation loss: 0.6646153926849365\n",
      "Epoch 18: Train Accuracy: 100.0, Train loss: 0.005672164727002382 |Validation Accuracy: 50.0, Validation loss: 0.8217735290527344\n",
      "Epoch 19: Train Accuracy: 100.0, Train loss: 0.0022139009088277817 |Validation Accuracy: 50.0, Validation loss: 0.9617827534675598\n",
      "Epoch 20: Train Accuracy: 100.0, Train loss: 0.0010422799969092011 |Validation Accuracy: 50.0, Validation loss: 0.9924423098564148\n",
      "Finished Training\n",
      "Total time elapsed: 89.37 seconds\n"
     ]
    }
   ],
   "source": [
    "GestureNet = GestureRecognitionModel025()\n",
    "root='C:\\\\Users\\\\alvipane\\\\Desktop\\\\Machine Learning\\\\1517\\\\Lab\\\\2\\\\Gesture Images Resized'\n",
    "\n",
    "\n",
    "train_net(GestureNet,train_root=root,num_epochs=20, batch_size=27,learning_rate=0.01,momentum=0.9) #dropout = 0.5\n"
   ]
  },
  {
   "cell_type": "code",
   "execution_count": 213,
   "metadata": {},
   "outputs": [
    {
     "name": "stdout",
     "output_type": "stream",
     "text": [
      "Above we can see a training accuracy of 100.0 confirming our overfit on small test set\n"
     ]
    }
   ],
   "source": [
    "print('''Above we can see a training accuracy of 100.0 confirming our overfit on small test set''')"
   ]
  },
  {
   "cell_type": "markdown",
   "metadata": {
    "id": "nvDLw-Vz6eVS"
   },
   "source": [
    "## Part B.3 Hyperparameter Search [13 pt]\n",
    "\n",
    "### Part B.3.a - 2 pt\n",
    "\n",
    "List 3 hyperparameters that you think are most worth tuning. Choose at least one hyperparameter related to\n",
    "the model architecture."
   ]
  },
  {
   "cell_type": "code",
   "execution_count": 2,
   "metadata": {
    "id": "HXRQbgMqR_Qy"
   },
   "outputs": [
    {
     "name": "stdout",
     "output_type": "stream",
     "text": [
      "Learning rate: This is the step size that the optimizer uses to update the model parameters. Too high a learning rate can cause the model to oscillate or converge slowly, while too low a learning rate can cause the model to converge too slowly or get stuck in a local minimum.\n",
      "\n",
      "Dropout rate: This is a hyperparameter related to the model architecture. The dropout rate is a hyperparameter that determines the probability of dropping out each neuron in the network. A higher dropout rate means that more neurons are being dropped out during training, which can increase the model's ability to generalize, but may also lead to slower convergence during training.\n",
      "\n",
      "Batch size: This determines the number of training examples used in each iteration of the training loop. Too small a batch size can result in a high variance in the model's gradients, while too large a batch size can result in a high computational cost and slow convergence.\n"
     ]
    }
   ],
   "source": [
    "\n",
    "\n",
    "print('''Learning rate: This is the step size that the optimizer uses to update the model parameters. Too high a learning rate can cause the model to oscillate or converge slowly, while too low a learning rate can cause the model to converge too slowly or get stuck in a local minimum.\n",
    "\n",
    "Dropout rate: This is a hyperparameter related to the model architecture. The dropout rate is a hyperparameter that determines the probability of dropping out each neuron in the network. A higher dropout rate means that more neurons are being dropped out during training, which can increase the model's ability to generalize, but may also lead to slower convergence during training.\n",
    "\n",
    "Batch size: This determines the number of training examples used in each iteration of the training loop. Too small a batch size can result in a high variance in the model's gradients, while too large a batch size can result in a high computational cost and slow convergence.''')"
   ]
  },
  {
   "cell_type": "markdown",
   "metadata": {
    "id": "zeD6EzPB6kSW"
   },
   "source": [
    "### Part B.3.b - 2 pt\n",
    "\n",
    "Tune the hyperparameters you listed in Part (a), trying as many values as you need to until you feel satisfied\n",
    "that you are getting a good model. Plot the training curve of at least 4 different hyperparameter settings."
   ]
  },
  {
   "cell_type": "code",
   "execution_count": 141,
   "metadata": {
    "id": "UkvdR-cB6nzm"
   },
   "outputs": [],
   "source": [
    "# Training Curve\n",
    "def plot_training_curve(path):\n",
    "    \"\"\" Plots the training curve for a model run, given the csv files\n",
    "    containing the train/validation error/loss.\n",
    "\n",
    "    Args:\n",
    "        path: The base path of the csv files produced during training\n",
    "    \"\"\"\n",
    "    import matplotlib.pyplot as plt\n",
    "    train_err = np.loadtxt(\"{}_train_acc.csv\".format(path))\n",
    "    val_err = np.loadtxt(\"{}_val_acc.csv\".format(path))\n",
    "    train_loss = np.loadtxt(\"{}_train_loss.csv\".format(path))\n",
    "    val_loss = np.loadtxt(\"{}_val_loss.csv\".format(path))\n",
    "    plt.title(\"Train vs Validation Accuracy\")\n",
    "    n = len(train_err) # number of epochs\n",
    "    plt.plot(range(1,n+1), train_err, label=\"Train\")\n",
    "    plt.plot(range(1,n+1), val_err, label=\"Validation\")\n",
    "    plt.xlabel(\"Epoch\")\n",
    "    plt.ylabel(\"Accuracy\")\n",
    "    plt.legend(loc='best')\n",
    "    plt.show()\n",
    "    plt.title(\"Train vs Validation Loss\")\n",
    "    plt.plot(range(1,n+1), train_loss, label=\"Train\")\n",
    "    plt.plot(range(1,n+1), val_loss, label=\"Validation\")\n",
    "    plt.xlabel(\"Epoch\")\n",
    "    plt.ylabel(\"Loss\")\n",
    "    plt.legend(loc='best')\n",
    "    plt.show()"
   ]
  },
  {
   "cell_type": "code",
   "execution_count": 3,
   "metadata": {},
   "outputs": [
    {
     "name": "stdout",
     "output_type": "stream",
     "text": [
      "NOTE: in the subsequent sections we will track test accuracy, the inverse of test error. This is a decision made simply for convenience\n"
     ]
    }
   ],
   "source": [
    "print('NOTE: in the subsequent sections we will track test accuracy, the inverse of test error. This is a decision made simply for convenience')"
   ]
  },
  {
   "cell_type": "code",
   "execution_count": 162,
   "metadata": {},
   "outputs": [
    {
     "name": "stdout",
     "output_type": "stream",
     "text": [
      "Epoch 1: Train Accuracy: 24.885095206828627, Train loss: 47.84323847293854 |Validation Accuracy: 38.32020997375328, Validation loss: 1.6889755328496296\n",
      "Epoch 2: Train Accuracy: 56.07353906762968, Train loss: 30.65629744529724 |Validation Accuracy: 58.53018372703412, Validation loss: 1.2575857142607372\n",
      "Epoch 3: Train Accuracy: 67.03873933026921, Train loss: 23.97737604379654 |Validation Accuracy: 56.955380577427825, Validation loss: 1.1749436855316162\n",
      "Epoch 4: Train Accuracy: 73.99868680236375, Train loss: 19.372840762138367 |Validation Accuracy: 64.82939632545931, Validation loss: 1.0507195790608723\n",
      "Epoch 5: Train Accuracy: 76.03414313854235, Train loss: 16.775149941444397 |Validation Accuracy: 64.30446194225722, Validation loss: 1.0841599802176158\n",
      "Epoch 6: Train Accuracy: 79.25147734734078, Train loss: 14.008459955453873 |Validation Accuracy: 64.82939632545931, Validation loss: 1.0265085796515148\n",
      "Epoch 7: Train Accuracy: 83.38804990151017, Train loss: 11.149573296308517 |Validation Accuracy: 67.19160104986877, Validation loss: 1.054525355497996\n",
      "Epoch 8: Train Accuracy: 85.48916611950098, Train loss: 10.105527430772781 |Validation Accuracy: 69.29133858267717, Validation loss: 1.0079856514930725\n",
      "Epoch 9: Train Accuracy: 86.93368351936967, Train loss: 9.220393598079681 |Validation Accuracy: 70.86614173228347, Validation loss: 0.9982571403185526\n",
      "Epoch 10: Train Accuracy: 91.46421536441234, Train loss: 6.089119985699654 |Validation Accuracy: 73.75328083989501, Validation loss: 1.0897213518619537\n",
      "Epoch 11: Train Accuracy: 92.97439264609324, Train loss: 4.996930796653032 |Validation Accuracy: 72.96587926509186, Validation loss: 1.2258942325909932\n",
      "Epoch 12: Train Accuracy: 91.98949441891004, Train loss: 5.84254564344883 |Validation Accuracy: 67.71653543307086, Validation loss: 1.1764591534932454\n",
      "Epoch 13: Train Accuracy: 94.81286933683519, Train loss: 3.782562255859375 |Validation Accuracy: 74.80314960629921, Validation loss: 1.1205961406230927\n",
      "Epoch 14: Train Accuracy: 96.65134602757715, Train loss: 2.717110514640808 |Validation Accuracy: 72.17847769028872, Validation loss: 1.382037063439687\n",
      "Epoch 15: Train Accuracy: 96.78266579120158, Train loss: 2.496401021257043 |Validation Accuracy: 66.14173228346456, Validation loss: 1.4957297444343567\n",
      "Epoch 16: Train Accuracy: 96.65134602757715, Train loss: 2.5778685491532087 |Validation Accuracy: 74.2782152230971, Validation loss: 1.1695023675759633\n",
      "Epoch 17: Train Accuracy: 96.19172685489166, Train loss: 2.7618887163698673 |Validation Accuracy: 73.49081364829397, Validation loss: 1.2308347622553508\n",
      "Epoch 18: Train Accuracy: 96.78266579120158, Train loss: 2.636631514877081 |Validation Accuracy: 75.85301837270342, Validation loss: 1.0618098775545757\n",
      "Epoch 19: Train Accuracy: 98.81812212738016, Train loss: 0.9884935636073351 |Validation Accuracy: 75.32808398950131, Validation loss: 1.2394433319568634\n",
      "Epoch 20: Train Accuracy: 98.88378200919239, Train loss: 0.9114229246042669 |Validation Accuracy: 78.74015748031496, Validation loss: 1.3173410793145497\n",
      "Finished Training\n",
      "Total time elapsed: 1697.45 seconds\n"
     ]
    }
   ],
   "source": [
    "#Perform tuning 1, we'll take the default parameters from lab 1 to start, also with our dropout rate of 0.5\n",
    "GestureNet = GestureRecognitionModel()\n",
    "# Initialize the model and move it to GPU if available\n",
    "model = GestureRecognitionModel()\n",
    "device = torch.device(\"cuda\" if torch.cuda.is_available() else \"cpu\")\n",
    "model = model.to(device)\n",
    "train_root='C:\\\\Users\\\\alvipane\\\\Desktop\\\\Machine Learning\\\\1517\\\\Lab\\\\2\\\\Lab_2_Hand_Gesture_Dataset\\\\Lab_3b_Gesture_Dataset'\n",
    "train_net(model,train_root,num_epochs=20, batch_size=64,learning_rate=0.01,momentum=0.9)\n"
   ]
  },
  {
   "cell_type": "code",
   "execution_count": 163,
   "metadata": {},
   "outputs": [
    {
     "data": {
      "image/png": "[encoded data removed]",
      "text/plain": [
       "<Figure size 640x480 with 1 Axes>"
      ]
     },
     "metadata": {},
     "output_type": "display_data"
    },
    {
     "data": {
      "image/png": "[encoded data removed]",
      "text/plain": [
       "<Figure size 640x480 with 1 Axes>"
      ]
     },
     "metadata": {},
     "output_type": "display_data"
    }
   ],
   "source": [
    "model_path = get_model_name(GestureNet.name, batch_size=64, learning_rate=0.01, epoch=19) #dropout 0.5\n",
    "plot_training_curve(model_path)"
   ]
  },
  {
   "cell_type": "code",
   "execution_count": 164,
   "metadata": {},
   "outputs": [
    {
     "name": "stdout",
     "output_type": "stream",
     "text": [
      "Epoch 1: Train Accuracy: 11.096520026263953, Train loss: 6.582972526550293 |Validation Accuracy: 9.711286089238845, Validation loss: 2.19022536277771\n",
      "Epoch 2: Train Accuracy: 14.773473407747867, Train loss: 6.508457899093628 |Validation Accuracy: 13.648293963254593, Validation loss: 2.1606690883636475\n",
      "Epoch 3: Train Accuracy: 29.21864740643467, Train loss: 6.3469884395599365 |Validation Accuracy: 33.07086614173228, Validation loss: 2.068485975265503\n",
      "Epoch 4: Train Accuracy: 39.133289560078794, Train loss: 5.993968844413757 |Validation Accuracy: 40.41994750656168, Validation loss: 1.898030161857605\n",
      "Epoch 5: Train Accuracy: 49.83585029546947, Train loss: 5.3356181383132935 |Validation Accuracy: 46.981627296587924, Validation loss: 1.6666325330734253\n",
      "Epoch 6: Train Accuracy: 52.46224556795798, Train loss: 4.527424573898315 |Validation Accuracy: 47.76902887139108, Validation loss: 1.5425666570663452\n",
      "Epoch 7: Train Accuracy: 57.84635587655942, Train loss: 3.994476318359375 |Validation Accuracy: 46.45669291338583, Validation loss: 1.6107863187789917\n",
      "Epoch 8: Train Accuracy: 59.48785292186474, Train loss: 3.772701859474182 |Validation Accuracy: 47.24409448818898, Validation loss: 1.5868041515350342\n",
      "Epoch 9: Train Accuracy: 63.230466185160864, Train loss: 3.371552586555481 |Validation Accuracy: 51.181102362204726, Validation loss: 1.5070298910140991\n",
      "Epoch 10: Train Accuracy: 65.85686145764937, Train loss: 3.0598292350769043 |Validation Accuracy: 59.58005249343832, Validation loss: 1.2739813327789307\n",
      "Epoch 11: Train Accuracy: 68.74589625738673, Train loss: 2.8229286074638367 |Validation Accuracy: 59.31758530183727, Validation loss: 1.1919149160385132\n",
      "Epoch 12: Train Accuracy: 73.07944845699278, Train loss: 2.5489166975021362 |Validation Accuracy: 58.79265091863517, Validation loss: 1.1874122619628906\n",
      "Epoch 13: Train Accuracy: 74.65528562048588, Train loss: 2.3659621477127075 |Validation Accuracy: 61.67979002624672, Validation loss: 1.1861741542816162\n",
      "Epoch 14: Train Accuracy: 76.62508207485226, Train loss: 2.2017452716827393 |Validation Accuracy: 61.67979002624672, Validation loss: 1.1926079988479614\n",
      "Epoch 15: Train Accuracy: 77.93827971109653, Train loss: 2.0452691316604614 |Validation Accuracy: 63.51706036745407, Validation loss: 1.1964764595031738\n",
      "Epoch 16: Train Accuracy: 79.71109652002626, Train loss: 1.8999876379966736 |Validation Accuracy: 64.04199475065617, Validation loss: 1.1451451778411865\n",
      "Epoch 17: Train Accuracy: 80.69599474720945, Train loss: 1.7562685012817383 |Validation Accuracy: 63.25459317585302, Validation loss: 1.158096194267273\n",
      "Epoch 18: Train Accuracy: 82.86277084701247, Train loss: 1.5931434631347656 |Validation Accuracy: 66.40419947506561, Validation loss: 1.1041470766067505\n",
      "Epoch 19: Train Accuracy: 84.5042678923178, Train loss: 1.4505492448806763 |Validation Accuracy: 64.04199475065617, Validation loss: 1.1510030031204224\n",
      "Epoch 20: Train Accuracy: 84.24162836506895, Train loss: 1.458792269229889 |Validation Accuracy: 65.87926509186352, Validation loss: 1.1682313680648804\n",
      "Finished Training\n",
      "Total time elapsed: 1388.74 seconds\n"
     ]
    }
   ],
   "source": [
    "#lets try increasing batch size to reduce overfit\n",
    "\n",
    "#perform tuning 2\n",
    "model = GestureRecognitionModel()\n",
    "device = torch.device(\"cuda\" if torch.cuda.is_available() else \"cpu\")\n",
    "model = model.to(device)\n",
    "train_root='C:\\\\Users\\\\alvipane\\\\Desktop\\\\Machine Learning\\\\1517\\\\Lab\\\\2\\\\Lab_2_Hand_Gesture_Dataset\\\\Lab_3b_Gesture_Dataset'\n",
    "train_net(model,train_root,num_epochs=20, batch_size=512,learning_rate=0.01,momentum=0.9)\n"
   ]
  },
  {
   "cell_type": "code",
   "execution_count": 165,
   "metadata": {},
   "outputs": [
    {
     "data": {
      "image/png": "[encoded data removed]",
      "text/plain": [
       "<Figure size 640x480 with 1 Axes>"
      ]
     },
     "metadata": {},
     "output_type": "display_data"
    },
    {
     "data": {
      "image/png": "[encoded data removed]",
      "text/plain": [
       "<Figure size 640x480 with 1 Axes>"
      ]
     },
     "metadata": {},
     "output_type": "display_data"
    }
   ],
   "source": [
    "#plot\n",
    "model_path = get_model_name(model.name, batch_size=512, learning_rate=0.01, epoch=19)\n",
    "plot_training_curve(model_path)"
   ]
  },
  {
   "cell_type": "code",
   "execution_count": 166,
   "metadata": {},
   "outputs": [
    {
     "name": "stdout",
     "output_type": "stream",
     "text": [
      "Epoch 1: Train Accuracy: 19.36966513460276, Train loss: 12.722940683364868 |Validation Accuracy: 32.808398950131235, Validation loss: 1.8074303269386292\n",
      "Epoch 2: Train Accuracy: 33.74917925147735, Train loss: 12.48051905632019 |Validation Accuracy: 36.48293963254593, Validation loss: 1.9698578715324402\n",
      "Epoch 3: Train Accuracy: 41.62836506894288, Train loss: 11.661242961883545 |Validation Accuracy: 39.10761154855643, Validation loss: 1.642695128917694\n",
      "Epoch 4: Train Accuracy: 47.86605384110309, Train loss: 11.20525074005127 |Validation Accuracy: 36.74540682414698, Validation loss: 1.9401046633720398\n",
      "Epoch 5: Train Accuracy: 37.16349310571241, Train loss: 11.169698238372803 |Validation Accuracy: 50.13123359580052, Validation loss: 1.5329557061195374\n",
      "Epoch 6: Train Accuracy: 61.26066973079448, Train loss: 7.165597319602966 |Validation Accuracy: 49.86876640419948, Validation loss: 1.6721787452697754\n",
      "Epoch 7: Train Accuracy: 65.9881812212738, Train loss: 6.0653557777404785 |Validation Accuracy: 56.955380577427825, Validation loss: 1.3219911456108093\n",
      "Epoch 8: Train Accuracy: 72.29152987524623, Train loss: 5.00907289981842 |Validation Accuracy: 64.04199475065617, Validation loss: 1.106327474117279\n",
      "Epoch 9: Train Accuracy: 78.13525935653315, Train loss: 3.952905237674713 |Validation Accuracy: 66.66666666666667, Validation loss: 1.2723875045776367\n",
      "Epoch 10: Train Accuracy: 81.87787261982929, Train loss: 3.1012227833271027 |Validation Accuracy: 63.25459317585302, Validation loss: 1.2156513333320618\n",
      "Epoch 11: Train Accuracy: 82.4688115561392, Train loss: 2.867264002561569 |Validation Accuracy: 66.40419947506561, Validation loss: 1.143885850906372\n",
      "Epoch 12: Train Accuracy: 86.93368351936967, Train loss: 2.259510189294815 |Validation Accuracy: 68.24146981627297, Validation loss: 1.054878294467926\n",
      "Epoch 13: Train Accuracy: 87.59028233749179, Train loss: 2.4914154708385468 |Validation Accuracy: 62.729658792650916, Validation loss: 1.4689626097679138\n",
      "Epoch 14: Train Accuracy: 89.29743926460932, Train loss: 2.0561165809631348 |Validation Accuracy: 66.40419947506561, Validation loss: 1.2587733268737793\n",
      "Epoch 15: Train Accuracy: 91.07025607353907, Train loss: 1.6772948056459427 |Validation Accuracy: 66.92913385826772, Validation loss: 1.4504119753837585\n",
      "Epoch 16: Train Accuracy: 91.66119500984898, Train loss: 1.4455815255641937 |Validation Accuracy: 70.60367454068242, Validation loss: 1.210927426815033\n",
      "Epoch 17: Train Accuracy: 94.74720945502298, Train loss: 0.9612804129719734 |Validation Accuracy: 71.39107611548556, Validation loss: 1.2634150385856628\n",
      "Epoch 18: Train Accuracy: 95.60078791858174, Train loss: 0.859441727399826 |Validation Accuracy: 74.80314960629921, Validation loss: 1.390598714351654\n",
      "Epoch 19: Train Accuracy: 95.3381483913329, Train loss: 0.8390463963150978 |Validation Accuracy: 71.65354330708661, Validation loss: 1.371820092201233\n",
      "Epoch 20: Train Accuracy: 95.79776756401839, Train loss: 0.7023503817617893 |Validation Accuracy: 73.49081364829397, Validation loss: 1.4073274731636047\n",
      "Finished Training\n",
      "Total time elapsed: 1992.23 seconds\n"
     ]
    },
    {
     "data": {
      "image/png": "[encoded data removed]",
      "text/plain": [
       "<Figure size 640x480 with 1 Axes>"
      ]
     },
     "metadata": {},
     "output_type": "display_data"
    },
    {
     "data": {
      "image/png": "[encoded data removed]",
      "text/plain": [
       "<Figure size 640x480 with 1 Axes>"
      ]
     },
     "metadata": {},
     "output_type": "display_data"
    }
   ],
   "source": [
    "#the previous model was underfit but was gradually improving, lets see if we can get a little less underfit by dropping batch size and increasing learn rate slightly\n",
    "#we don't want to add more epochs since train time is already pretty long\n",
    "\n",
    "#perform tuning 3\n",
    "model = GestureRecognitionModel()\n",
    "device = torch.device(\"cuda\" if torch.cuda.is_available() else \"cpu\")\n",
    "model = model.to(device)\n",
    "train_root='C:\\\\Users\\\\alvipane\\\\Desktop\\\\Machine Learning\\\\1517\\\\Lab\\\\2\\\\Lab_2_Hand_Gesture_Dataset\\\\Lab_3b_Gesture_Dataset'\n",
    "train_net(model,train_root,num_epochs=20, batch_size=256,learning_rate=0.05,momentum=0.9)\n",
    "\n",
    "#plot\n",
    "model_path = get_model_name(model.name, batch_size=256, learning_rate=0.05, epoch=19)\n",
    "plot_training_curve(model_path)"
   ]
  },
  {
   "cell_type": "code",
   "execution_count": 167,
   "metadata": {},
   "outputs": [
    {
     "name": "stdout",
     "output_type": "stream",
     "text": [
      "Epoch 1: Train Accuracy: 29.612606697307946, Train loss: 46.15213692188263 |Validation Accuracy: 47.76902887139108, Validation loss: 1.588547945022583\n",
      "Epoch 2: Train Accuracy: 58.96257386736704, Train loss: 29.368026316165924 |Validation Accuracy: 57.21784776902887, Validation loss: 1.2666291296482086\n",
      "Epoch 3: Train Accuracy: 67.89231779382797, Train loss: 22.625665545463562 |Validation Accuracy: 59.05511811023622, Validation loss: 1.2172048290570576\n",
      "Epoch 4: Train Accuracy: 74.98358502954694, Train loss: 18.29507976770401 |Validation Accuracy: 64.04199475065617, Validation loss: 1.0805960694948833\n",
      "Epoch 5: Train Accuracy: 78.66053841103086, Train loss: 14.911717057228088 |Validation Accuracy: 65.09186351706036, Validation loss: 1.0562955439090729\n",
      "Epoch 6: Train Accuracy: 83.05975049244911, Train loss: 12.024709194898605 |Validation Accuracy: 66.92913385826772, Validation loss: 1.0182486772537231\n",
      "Epoch 7: Train Accuracy: 87.72160210111622, Train loss: 8.815110564231873 |Validation Accuracy: 64.04199475065617, Validation loss: 1.1677068372567494\n",
      "Epoch 8: Train Accuracy: 84.43860801050558, Train loss: 10.903427124023438 |Validation Accuracy: 67.19160104986877, Validation loss: 1.0411025285720825\n",
      "Epoch 9: Train Accuracy: 87.91858174655286, Train loss: 8.514362588524818 |Validation Accuracy: 72.17847769028872, Validation loss: 0.925129234790802\n",
      "Epoch 10: Train Accuracy: 93.49967170059094, Train loss: 4.708038784563541 |Validation Accuracy: 72.17847769028872, Validation loss: 1.0758915543556213\n",
      "Epoch 11: Train Accuracy: 93.04005252790544, Train loss: 4.448252834379673 |Validation Accuracy: 70.34120734908136, Validation loss: 1.2747204502423604\n",
      "Epoch 12: Train Accuracy: 94.61588969139855, Train loss: 4.003845687955618 |Validation Accuracy: 71.91601049868767, Validation loss: 1.2019168933232625\n",
      "Epoch 13: Train Accuracy: 95.8634274458306, Train loss: 2.732856970280409 |Validation Accuracy: 72.96587926509186, Validation loss: 1.229588548342387\n",
      "Epoch 14: Train Accuracy: 97.50492449113591, Train loss: 1.7576527437195182 |Validation Accuracy: 72.96587926509186, Validation loss: 1.5049049456914265\n",
      "Epoch 15: Train Accuracy: 98.03020354563361, Train loss: 1.6077681789174676 |Validation Accuracy: 72.96587926509186, Validation loss: 1.4890496730804443\n",
      "Epoch 16: Train Accuracy: 97.63624425476034, Train loss: 1.818658147007227 |Validation Accuracy: 74.01574803149606, Validation loss: 1.3630204101403554\n",
      "Epoch 17: Train Accuracy: 98.75246224556795, Train loss: 1.013319242745638 |Validation Accuracy: 69.29133858267717, Validation loss: 1.3821951548258464\n",
      "Epoch 18: Train Accuracy: 99.40906106369009, Train loss: 0.5697404206730425 |Validation Accuracy: 75.59055118110236, Validation loss: 1.3546724319458008\n",
      "Epoch 19: Train Accuracy: 99.80302035456336, Train loss: 0.2326067490503192 |Validation Accuracy: 75.59055118110236, Validation loss: 1.5740643541018169\n",
      "Epoch 20: Train Accuracy: 99.73736047275115, Train loss: 0.22552433930104598 |Validation Accuracy: 76.64041994750656, Validation loss: 1.427487889925639\n",
      "Finished Training\n",
      "Total time elapsed: 2507.18 seconds\n"
     ]
    },
    {
     "data": {
      "image/png": "[encoded data removed]",
      "text/plain": [
       "<Figure size 640x480 with 1 Axes>"
      ]
     },
     "metadata": {},
     "output_type": "display_data"
    },
    {
     "data": {
      "image/png": "[encoded data removed]",
      "text/plain": [
       "<Figure size 640x480 with 1 Axes>"
      ]
     },
     "metadata": {},
     "output_type": "display_data"
    }
   ],
   "source": [
    "#perform tuning 4\n",
    "\n",
    "#Lets take our best model thus far now and modify the dropout rate, reduce to 0.25\n",
    "model = GestureRecognitionModel025()\n",
    "device = torch.device(\"cuda\" if torch.cuda.is_available() else \"cpu\")\n",
    "model = model.to(device)\n",
    "train_root='C:\\\\Users\\\\alvipane\\\\Desktop\\\\Machine Learning\\\\1517\\\\Lab\\\\2\\\\Lab_2_Hand_Gesture_Dataset\\\\Lab_3b_Gesture_Dataset'\n",
    "train_net(model,train_root,num_epochs=20, batch_size=64,learning_rate=0.01,momentum=0.9)\n",
    "\n",
    "\n",
    "#plot\n",
    "model_path = get_model_name(model.name, batch_size=64, learning_rate=0.01, epoch=19)\n",
    "plot_training_curve(model_path)"
   ]
  },
  {
   "cell_type": "code",
   "execution_count": 170,
   "metadata": {},
   "outputs": [
    {
     "name": "stdout",
     "output_type": "stream",
     "text": [
      "Epoch 1: Train Accuracy: 29.415627051871308, Train loss: 45.955520272254944 |Validation Accuracy: 48.818897637795274, Validation loss: 1.5861305991808574\n",
      "Epoch 2: Train Accuracy: 59.02823374917925, Train loss: 29.205839812755585 |Validation Accuracy: 57.48031496062992, Validation loss: 1.2657850980758667\n",
      "Epoch 3: Train Accuracy: 68.81155613919896, Train loss: 22.511803328990936 |Validation Accuracy: 57.74278215223097, Validation loss: 1.2029550472895305\n",
      "Epoch 4: Train Accuracy: 74.91792514773473, Train loss: 18.260608732700348 |Validation Accuracy: 64.04199475065617, Validation loss: 1.0697843631108601\n",
      "Epoch 5: Train Accuracy: 78.13525935653315, Train loss: 15.094313383102417 |Validation Accuracy: 65.35433070866142, Validation loss: 1.0793847342332203\n",
      "Epoch 6: Train Accuracy: 82.53447143795141, Train loss: 11.90612119436264 |Validation Accuracy: 67.19160104986877, Validation loss: 0.9952546457449595\n",
      "Epoch 7: Train Accuracy: 87.06500328299408, Train loss: 8.64019051194191 |Validation Accuracy: 62.99212598425197, Validation loss: 1.2501341899236043\n",
      "Epoch 8: Train Accuracy: 89.03479973736047, Train loss: 8.155586779117584 |Validation Accuracy: 68.50393700787401, Validation loss: 1.1172057588895161\n",
      "Epoch 9: Train Accuracy: 87.78726198292843, Train loss: 8.922617137432098 |Validation Accuracy: 70.34120734908136, Validation loss: 0.9936448931694031\n",
      "Epoch 10: Train Accuracy: 92.84307288246882, Train loss: 5.100315533578396 |Validation Accuracy: 71.39107611548556, Validation loss: 1.0523511668046315\n",
      "Epoch 11: Train Accuracy: 94.74720945502298, Train loss: 3.739297430962324 |Validation Accuracy: 71.12860892388451, Validation loss: 1.3837515513102214\n",
      "Epoch 12: Train Accuracy: 96.12606697307945, Train loss: 3.16931563988328 |Validation Accuracy: 74.2782152230971, Validation loss: 1.085501064856847\n",
      "Epoch 13: Train Accuracy: 97.11096520026264, Train loss: 2.50046431645751 |Validation Accuracy: 76.9028871391076, Validation loss: 1.115193208058675\n",
      "Epoch 14: Train Accuracy: 96.25738673670388, Train loss: 2.971432037651539 |Validation Accuracy: 72.96587926509186, Validation loss: 1.2674214839935303\n",
      "Epoch 15: Train Accuracy: 95.9290873276428, Train loss: 3.400167852640152 |Validation Accuracy: 72.44094488188976, Validation loss: 1.1802827616532643\n",
      "Epoch 16: Train Accuracy: 98.35850295469469, Train loss: 1.2737813657149673 |Validation Accuracy: 73.49081364829397, Validation loss: 1.5118642648061116\n",
      "Epoch 17: Train Accuracy: 98.09586342744583, Train loss: 1.4058170299977064 |Validation Accuracy: 71.65354330708661, Validation loss: 1.4737217624982197\n",
      "Epoch 18: Train Accuracy: 98.62114248194354, Train loss: 1.2307168282568455 |Validation Accuracy: 75.32808398950131, Validation loss: 1.2597477436065674\n",
      "Epoch 19: Train Accuracy: 99.54038082731451, Train loss: 0.46572522073984146 |Validation Accuracy: 75.06561679790026, Validation loss: 1.5924563606580098\n",
      "Epoch 20: Train Accuracy: 99.67170059093894, Train loss: 0.34099161357153207 |Validation Accuracy: 74.2782152230971, Validation loss: 1.4722785751024883\n",
      "Finished Training\n",
      "Total time elapsed: 2363.74 seconds\n"
     ]
    },
    {
     "data": {
      "image/png": "[encoded data removed]",
      "text/plain": [
       "<Figure size 640x480 with 1 Axes>"
      ]
     },
     "metadata": {},
     "output_type": "display_data"
    },
    {
     "data": {
      "image/png": "[encoded data removed]",
      "text/plain": [
       "<Figure size 640x480 with 1 Axes>"
      ]
     },
     "metadata": {},
     "output_type": "display_data"
    }
   ],
   "source": [
    "#perform tuning 5\n",
    "\n",
    "#Reducing the dropout rate had a positive effect on our fit, lets try one more reduction to 0.15\n",
    "model = GestureRecognitionModel015()\n",
    "device = torch.device(\"cuda\" if torch.cuda.is_available() else \"cpu\")\n",
    "model = model.to(device)\n",
    "train_root='C:\\\\Users\\\\alvipane\\\\Desktop\\\\Machine Learning\\\\1517\\\\Lab\\\\2\\\\Lab_2_Hand_Gesture_Dataset\\\\Lab_3b_Gesture_Dataset'\n",
    "train_net(model,train_root,num_epochs=20, batch_size=64,learning_rate=0.01,momentum=0.9)\n",
    "\n",
    "\n",
    "#plot\n",
    "model_path = get_model_name(model.name, batch_size=64, learning_rate=0.01, epoch=19)\n",
    "plot_training_curve(model_path)"
   ]
  },
  {
   "cell_type": "markdown",
   "metadata": {
    "id": "H93iN5_l60BO"
   },
   "source": [
    "### Part B.3.c - 2 pt\n",
    "Choose the best model out of all the ones that you have trained. Justify your choice."
   ]
  },
  {
   "cell_type": "code",
   "execution_count": null,
   "metadata": {
    "id": "kIhcN7IG6zRO"
   },
   "outputs": [],
   "source": [
    "net = GestureRecognitionModel()\n",
    "# Best result, had val accuracy of 78.7%\n",
    "model_path = get_model_name(net.name, batch_size=64, learning_rate=0.01, epoch=19)\n",
    "state = torch.load(model_path)\n",
    "net.load_state_dict(state)\n"
   ]
  },
  {
   "cell_type": "code",
   "execution_count": 5,
   "metadata": {},
   "outputs": [
    {
     "name": "stdout",
     "output_type": "stream",
     "text": [
      "The tuning resulted in the best model being the one with a batch_size of 64, learning rate of 0.01, trained for 20 epochs, and with a dropout rate of 0.5. This model was selected as the best due to its superior performance on test accuracy (inverse of test error) as well as train/val loss. This indicates that this set of hyperparameters is providing a good fit to the data (good performance on training set), and is also generalizing well to new data (good performance on test set)\n"
     ]
    }
   ],
   "source": [
    "#answer to B.3.c\n",
    "print('''The tuning resulted in the best model being the one with a batch_size of 64, learning rate of 0.01, trained for 20 epochs, and with a dropout rate of 0.5. This model was selected as the best due to its superior performance in validation accuracy (inverse of val error) as well as train/val loss. This indicates that this set of hyperparameters is providing a good fit to the data (good performance on training set), and is also generalizing well to new data (good performance on validation set)''')\n"
   ]
  },
  {
   "cell_type": "markdown",
   "metadata": {
    "id": "QzNA5oup67JO"
   },
   "source": [
    "### Part B.3.d - 2 pt\n",
    "Report the test accuracy of your best model. You should only do this step once and prior to this step you should have only used the training and validation data."
   ]
  },
  {
   "cell_type": "code",
   "execution_count": 176,
   "metadata": {
    "id": "2eJ7AbVl6-ax"
   },
   "outputs": [],
   "source": [
    "#Function to return the test classification error\n",
    "def evaluate2(net, loader):\n",
    "    \"\"\" Evaluate the network on the validation set.\n",
    "\n",
    "     Args:\n",
    "         net: PyTorch neural network object\n",
    "         loader: PyTorch data loader for the validation set\n",
    "         criterion: The loss function\n",
    "     Returns:\n",
    "         err: A scalar for the avg classification error over the validation set\n",
    "         loss: A scalar for the average loss function over the validation set\n",
    "     \"\"\"\n",
    "    net.eval()\n",
    " \n",
    "    total_err = 0.0\n",
    "    total_epoch = 0\n",
    "    for i, data in enumerate(loader, 0):\n",
    "        inputs, labels = data\n",
    "        #labels = normalize_label(labels)  # Convert labels to 0/1\n",
    "        outputs = net(inputs)\n",
    "        _, predicted = torch.max(outputs.data, 1)\n",
    "        corr = (predicted != labels).sum().item()\n",
    "        #corr = (outputs > 0.0).squeeze().long() != labels\n",
    "        total_err += int(corr) #(corr.sum())\n",
    "      \n",
    "        total_epoch += len(labels)\n",
    "    test_err = 100* float(total_err) / total_epoch\n",
    "\n",
    "    print(\"Test error for network '{}' : {:.2f}%\".format(net.name,test_err))\n",
    "    \n",
    "    return test_err/100"
   ]
  },
  {
   "cell_type": "code",
   "execution_count": 174,
   "metadata": {},
   "outputs": [],
   "source": [
    "_,_, test_loader = load_data(batch_size=64)"
   ]
  },
  {
   "cell_type": "code",
   "execution_count": 177,
   "metadata": {},
   "outputs": [
    {
     "name": "stdout",
     "output_type": "stream",
     "text": [
      "Test error for network 'GestureR1' : 25.81%\n"
     ]
    },
    {
     "data": {
      "text/plain": [
       "0.25806451612903225"
      ]
     },
     "execution_count": 177,
     "metadata": {},
     "output_type": "execute_result"
    }
   ],
   "source": [
    "evaluate2(net,test_loader)"
   ]
  },
  {
   "cell_type": "code",
   "execution_count": 214,
   "metadata": {},
   "outputs": [
    {
     "name": "stdout",
     "output_type": "stream",
     "text": [
      "COMMENT: This result is a comparatively decent score for exposure to unseen data, and has slightly more error than the score from the validation set, which was 78.7% accurate\n"
     ]
    }
   ],
   "source": [
    "#comment on the above\n",
    "print('COMMENT: This result is a comparatively decent score for exposure to unseen data, and has slightly more error than the score from the validation set, which was 78.7% accurate')"
   ]
  },
  {
   "cell_type": "markdown",
   "metadata": {
    "id": "Wrem-iXV6_Bz"
   },
   "source": [
    "### Part B.4 Transfer Learning [8 pt]\n",
    "For many image classification tasks, it is generally not a good idea to train a very large deep neural network\n",
    "model from scratch due to the enormous compute requirements and lack of sufficient amounts of training\n",
    "data.\n",
    "\n",
    "One of the better options is to try using an existing model that performs a similar task to the one you need\n",
    "to solve. This method of utilizing a pre-trained network for other similar tasks is broadly termed **Transfer\n",
    "Learning**. In this assignment, we will use Transfer Learning to extract features from the hand gesture\n",
    "images. Then, train a smaller network to use these features as input and classify the hand gestures.\n",
    "\n",
    "As you have learned from the CNN lecture, convolution layers extract various features from the images which\n",
    "get utilized by the fully connected layers for correct classification. AlexNet architecture played a pivotal\n",
    "role in establishing Deep Neural Nets as a go-to tool for image classification problems and we will use an\n",
    "ImageNet pre-trained AlexNet model to extract features in this assignment."
   ]
  },
  {
   "cell_type": "markdown",
   "metadata": {
    "id": "rWdQJz4Q7O2F"
   },
   "source": [
    "### Part B.4.a - 2 pt\n",
    "Here is the code to load the AlexNet network, with pretrained weights. When you first run the code, PyTorch\n",
    "will download the pretrained weights from the internet."
   ]
  },
  {
   "cell_type": "code",
   "execution_count": 35,
   "metadata": {
    "id": "BJKcTW9C7TZk"
   },
   "outputs": [],
   "source": [
    "import torchvision.models\n",
    "alexnet = torchvision.models.alexnet(pretrained=True)"
   ]
  },
  {
   "cell_type": "markdown",
   "metadata": {
    "id": "NQ0GZYaP7VAR"
   },
   "source": [
    "The alexnet model is split up into two components: *alexnet.features* and *alexnet.classifier*. The\n",
    "first neural network component, *alexnet.features*, is used to compute convolutional features, which are\n",
    "taken as input in *alexnet.classifier*.\n",
    "\n",
    "The neural network alexnet.features expects an image tensor of shape Nx3x224x224 as input and it will\n",
    "output a tensor of shape Nx256x6x6 . (N = batch size).\n",
    "\n",
    "Compute the AlexNet features for each of your training, validation, and test data. Here is an example code\n",
    "snippet showing how you can compute the AlexNet features for some images (your actual code might be\n",
    "different):"
   ]
  },
  {
   "cell_type": "code",
   "execution_count": 189,
   "metadata": {
    "id": "oX7SjVdB7XAE"
   },
   "outputs": [],
   "source": [
    "# img = ... a PyTorch tensor with shape [N,3,224,224] containing hand images ...\n",
    "#train_features = alexnet.features(train_dataset)"
   ]
  },
  {
   "cell_type": "code",
   "execution_count": 45,
   "metadata": {},
   "outputs": [],
   "source": [
    "\n",
    "def getFeaturesAndLabels(batch_size=64, test_root=\"C:\\\\Users\\\\alvipane\\\\Desktop\\\\Machine Learning\\\\1517\\\\Lab\\\\2\\\\Lab_2_Hand_Gesture_Dataset\\\\test\"):\n",
    "    # Load the AlexNet model with pre-trained weights\n",
    "    #import torchvision.models\n",
    "    model = torchvision.models.alexnet(pretrained=True)\n",
    "\n",
    "    # Set the model in evaluation mode\n",
    "    model.eval()\n",
    "\n",
    "    # Load the training dataset\n",
    "    #transform = transforms.Compose([transforms.ToTensor()])\n",
    "    transform = transforms.Compose([\n",
    "            transforms.Resize((224, 224)),\n",
    "            transforms.ToTensor(),\n",
    "            transforms.Normalize((0.5, 0.5, 0.5), (0.5, 0.5, 0.5))\n",
    "        ])\n",
    "   \n",
    "    dataset = torchvision.datasets.ImageFolder(root='C:\\\\Users\\\\alvipane\\\\Desktop\\\\Machine Learning\\\\1517\\\\Lab\\\\2\\\\Lab_2_Hand_Gesture_Dataset\\\\Lab_3b_Gesture_Dataset', transform=transform)\n",
    "    train_size = int(0.8 * len(dataset))\n",
    "    val_size = len(dataset) - train_size\n",
    "    train_dataset, val_dataset = torch.utils.data.random_split(dataset, [train_size, val_size])\n",
    "\n",
    "    # Use DataLoader to load the data in batches\n",
    "    train_loader = torch.utils.data.DataLoader(train_dataset, batch_size=batch_size, shuffle=False) #64 image per batch\n",
    "    val_loader = torch.utils.data.DataLoader(val_dataset, batch_size=batch_size, shuffle=False)\n",
    "\n",
    "    #LOAD TEST\n",
    "    #test_root=\"C:\\\\Users\\\\alvipane\\\\Desktop\\\\Machine Learning\\\\1517\\\\Lab\\\\2\\\\Lab_2_Hand_Gesture_Dataset\\\\test\"\n",
    "    # Load the test dataset using ImageFolder\n",
    "    test_dataset = torchvision.datasets.ImageFolder(test_root, transform=transform)\n",
    "\n",
    "    # Use DataLoader to load the data in batches\n",
    "    test_loader = torch.utils.data.DataLoader(test_dataset, batch_size=batch_size, shuffle=False)\n",
    "\n",
    "    # Compute the training features and labels\n",
    "    training_features = []\n",
    "    training_labels = []\n",
    "    for image, label in train_loader:\n",
    "        features = model.features(image)\n",
    "        features = features.view(features.size(0), -1)\n",
    "        training_features.append(features)\n",
    "        training_labels.append(label)\n",
    "\n",
    "    training_features = torch.cat(training_features, dim=0)\n",
    "    training_labels = torch.cat(training_labels, dim=0)\n",
    "\n",
    "    #Compute the validation features and labels\n",
    "    val_features = []\n",
    "    val_labels = []\n",
    "    for image, label in val_loader:\n",
    "        features = model.features(image)\n",
    "        features = features.view(features.size(0), -1)\n",
    "        val_features.append(features)\n",
    "        val_labels.append(label)\n",
    "\n",
    "    val_features = torch.cat(val_features, dim=0)\n",
    "    val_labels = torch.cat(val_labels, dim=0)\n",
    "\n",
    "\n",
    "    #Compute test features and labels\n",
    "    test_features = []\n",
    "    test_labels = []\n",
    "    for image, label in test_loader:\n",
    "        features = model.features(image)\n",
    "        features = features.view(features.size(0), -1)\n",
    "        test_features.append(features)\n",
    "        test_labels.append(label)\n",
    "\n",
    "    test_features = torch.cat(test_features, dim=0)\n",
    "    test_labels = torch.cat(test_labels, dim=0)\n",
    "\n",
    "\n",
    "    return training_features,training_labels,val_features,val_labels,test_features,test_labels\n",
    "\n"
   ]
  },
  {
   "cell_type": "code",
   "execution_count": 233,
   "metadata": {},
   "outputs": [
    {
     "name": "stderr",
     "output_type": "stream",
     "text": [
      "c:\\Users\\alvipane\\AppData\\Local\\Programs\\Python\\Python310\\lib\\site-packages\\torchvision\\models\\_utils.py:208: UserWarning: The parameter 'pretrained' is deprecated since 0.13 and may be removed in the future, please use 'weights' instead.\n",
      "  warnings.warn(\n",
      "c:\\Users\\alvipane\\AppData\\Local\\Programs\\Python\\Python310\\lib\\site-packages\\torchvision\\models\\_utils.py:223: UserWarning: Arguments other than a weight enum or `None` for 'weights' are deprecated since 0.13 and may be removed in the future. The current behavior is equivalent to passing `weights=AlexNet_Weights.IMAGENET1K_V1`. You can also use `weights=AlexNet_Weights.DEFAULT` to get the most up-to-date weights.\n",
      "  warnings.warn(msg)\n"
     ]
    }
   ],
   "source": [
    "training_features,training_labels,val_features,val_labels,test_features,test_labels = getFeaturesAndLabels(batch_size=64)"
   ]
  },
  {
   "cell_type": "markdown",
   "metadata": {
    "id": "DYcjHg_A7cCM"
   },
   "source": [
    "**Save the computed features**. You will be using these features as input to your neural network in Part\n",
    "(b), and you do not want to re-compute the features every time. Instead, run *alexnet.features* once for\n",
    "each image, and save the result."
   ]
  },
  {
   "cell_type": "code",
   "execution_count": null,
   "metadata": {},
   "outputs": [],
   "source": [
    "torch.save(training_features, 'training_features')\n",
    "torch.save(val_features, 'val_features')\n",
    "torch.save(test_features, 'test_features')"
   ]
  },
  {
   "cell_type": "markdown",
   "metadata": {
    "id": "OFWvvhFN73qY"
   },
   "source": [
    "### Part B.4.b - 2 pt\n",
    "Build a convolutional neural network model that takes as input these AlexNet features, and makes a\n",
    "prediction. Your model should be a subclass of nn.Module.\n",
    "\n",
    "Explain your choice of neural network architecture: how many layers did you choose? What types of layers\n",
    "did you use: fully-connected or convolutional? What about other decisions like pooling layers, activation\n",
    "functions, number of channels / hidden units in each layer?\n",
    "\n",
    "Here is an example of how your model may be called:"
   ]
  },
  {
   "cell_type": "code",
   "execution_count": 14,
   "metadata": {},
   "outputs": [
    {
     "name": "stdout",
     "output_type": "stream",
     "text": [
      "Choice of architecture: The model contains three fully connected layers, each with a ReLU activation function and a dropout layer.\n",
      "\n",
      "Convolutional layers are not chosen here because the input to the model is features extracted from AlexNet, and we want to perform classification using these features. \n",
      "\n",
      "9 channels are used to correspond to the number of class labels.\n",
      "\n",
      "The use of ReLU activation functions and dropout are to improve the model's ability to generalize to unseen data. The dropout layer randomly sets some of the activations to 0 during training, forcing the model to learn more robust features.\n",
      "\n"
     ]
    }
   ],
   "source": [
    "\n",
    "#feature classifier based on alexnet input\n",
    "class FeatureClassifier(nn.Module):\n",
    "    def __init__(self, num_classes=9):\n",
    "        super(FeatureClassifier, self).__init__()\n",
    "        \n",
    "        self.fc1 = nn.Linear(256 * 6 * 6, 4096)\n",
    "        self.fc2 = nn.Linear(4096, 4096)\n",
    "        self.fc3 = nn.Linear(4096, num_classes)\n",
    "        self.relu = nn.ReLU()\n",
    "        self.dropout = nn.Dropout(p=0.5)\n",
    "        self.name = 'FeatureClassifier'\n",
    "        \n",
    "    def forward(self, x):\n",
    "        # Flatten input features\n",
    "        x = x.view(x.size(0), -1)\n",
    "\n",
    "        x = self.fc1(x)\n",
    "        x = self.relu(x)\n",
    "        x = self.dropout(x)\n",
    "        x = self.fc2(x)\n",
    "        x = self.relu(x)\n",
    "        x = self.dropout(x)\n",
    "        x = self.fc3(x)\n",
    "        \n",
    "        return x\n",
    "\n",
    "print('''Choice of architecture: The model contains three fully connected layers, each with a ReLU activation function and a dropout layer.\n",
    "\n",
    "Convolutional layers are not chosen here because the input to the model is features extracted from AlexNet, and we want to perform classification using these features. \n",
    "\n",
    "9 channels are used to correspond to the number of class labels.\n",
    "\n",
    "The use of ReLU activation functions and dropout are to improve the model's ability to generalize to unseen data. The dropout layer randomly sets some of the activations to 0 during training, forcing the model to learn more robust features.\n",
    "''')"
   ]
  },
  {
   "cell_type": "code",
   "execution_count": 15,
   "metadata": {
    "id": "oVTuHUeV78-U"
   },
   "outputs": [],
   "source": [
    "# features = ... load precomputed alexnet.features(img) ...\n",
    "model = FeatureClassifier()\n",
    "#output = model(training_features)\n",
    "#prob = F.softmax(output)"
   ]
  },
  {
   "cell_type": "markdown",
   "metadata": {
    "id": "wVAGuURu7-9q"
   },
   "source": [
    "### Part B.4.c - 2 pt\n",
    "Train your new network, including any hyperparameter tuning. Plot and submit the training curve of your\n",
    "best model only.\n",
    "\n",
    "Note: Depending on how you are caching (saving) your AlexNet features, PyTorch might still be tracking\n",
    "updates to the **AlexNet weights**, which we are not tuning. One workaround is to convert your AlexNet\n",
    "feature tensor into a numpy array, and then back into a PyTorch tensor."
   ]
  },
  {
   "cell_type": "code",
   "execution_count": 26,
   "metadata": {
    "id": "JCmiH11x7-q1"
   },
   "outputs": [],
   "source": [
    "#tensor = torch.from_numpy(tensor.detach().numpy())\n",
    "\n",
    "def train_net2(model, train_features, train_labels, val_features, val_labels, batch_size, num_epochs, learning_rate):\n",
    "    train_features = torch.from_numpy(train_features.detach().numpy())\n",
    "    val_features = torch.from_numpy(val_features.detach().numpy())\n",
    "\n",
    "\n",
    "# Define the loss function and optimizer\n",
    "    criterion = nn.CrossEntropyLoss()\n",
    "    optimizer = optim.SGD(model.parameters(), lr=learning_rate, momentum=0.9)\n",
    "    train_error = np.zeros(num_epochs)\n",
    "    train_loss = np.zeros(num_epochs)\n",
    "    val_error = np.zeros(num_epochs)\n",
    "    vali_loss = np.zeros(num_epochs)\n",
    "    start_time = time.time()\n",
    "    # Train the network on the features\n",
    "    for epoch in range(num_epochs):  # loop over the dataset multiple times\n",
    "        running_loss = 0.0\n",
    "        running_error = 0.0\n",
    "        for i in range(0, train_features.shape[0], batch_size):\n",
    "            inputs = train_features[i:i+batch_size]\n",
    "            labels_batch = train_labels[i:i+batch_size]\n",
    "\n",
    "            optimizer.zero_grad()\n",
    "\n",
    "            outputs = model(inputs)\n",
    "            loss = criterion(outputs, labels_batch)\n",
    "            loss.backward()\n",
    "            optimizer.step()\n",
    "\n",
    "            running_loss += loss.item()\n",
    "\n",
    "            _, preds = torch.max(outputs, 1)\n",
    "            running_error += (preds != labels_batch).sum().item()\n",
    "        train_err = running_error / train_features.shape[0]\n",
    "        tr_loss = running_loss / (train_features.shape[0] / batch_size)\n",
    "        print(f'[Epoch {epoch + 1}] Training loss: {running_loss / (train_features.shape[0] / batch_size)} Training error: {train_err}')\n",
    "\n",
    "        # Evaluate on the validation data\n",
    "        with torch.no_grad():\n",
    "            val_outputs = model(val_features)\n",
    "            val_loss = criterion(val_outputs, val_labels)\n",
    "            _, preds = torch.max(val_outputs, 1)\n",
    "            val_err = (preds != val_labels).sum().item() / val_labels.size(0)\n",
    "        print(f'[Epoch {epoch + 1}] Validation loss: {val_loss.item()} Validation error: {val_err}')\n",
    "\n",
    "        # Save the current model (checkpoint) to a file\n",
    "        model_path = get_model_name(model.name, batch_size, learning_rate, epoch)\n",
    "        torch.save(model.state_dict(), model_path)\n",
    "        train_error[epoch] = train_err\n",
    "        train_loss[epoch] = tr_loss\n",
    "        val_error[epoch] = val_err\n",
    "        vali_loss[epoch] = val_loss.item()\n",
    "        # Write the train/test loss/err into CSV file for plotting later\n",
    "        epochs = np.arange(1, num_epochs + 1)\n",
    "        np.savetxt(\"{}_train_acc.csv\".format(model_path), train_error)\n",
    "        np.savetxt(\"{}_train_loss.csv\".format(model_path), train_loss)\n",
    "        np.savetxt(\"{}_val_acc.csv\".format(model_path), val_error)\n",
    "        np.savetxt(\"{}_val_loss.csv\".format(model_path), vali_loss)\n",
    "    print('Finished Training')\n",
    "    end_time = time.time()\n",
    "    elapsed_time = end_time - start_time\n",
    "    print(\"Total time elapsed: {:.2f} seconds\".format(elapsed_time))\n",
    "\n",
    "            \n",
    "def plot_training_curve2(path):\n",
    "    \"\"\" Plots the training curve for a model run, given the csv files\n",
    "    containing the train/validation error/loss.\n",
    "\n",
    "    Args:\n",
    "        path: The base path of the csv files produced during training\n",
    "    \"\"\"\n",
    "    import matplotlib.pyplot as plt\n",
    "    train_err = np.loadtxt(\"{}_train_acc.csv\".format(path))\n",
    "    val_err = np.loadtxt(\"{}_val_acc.csv\".format(path))\n",
    "    train_loss = np.loadtxt(\"{}_train_loss.csv\".format(path))\n",
    "    val_loss = np.loadtxt(\"{}_val_loss.csv\".format(path))\n",
    "    plt.title(\"Train vs Validation Error\")\n",
    "    n = len(train_err) # number of epochs\n",
    "    plt.plot(range(1,n+1), train_err, label=\"Train\")\n",
    "    plt.plot(range(1,n+1), val_err, label=\"Validation\")\n",
    "    plt.xlabel(\"Epoch\")\n",
    "    plt.ylabel(\"Error\")\n",
    "    plt.legend(loc='best')\n",
    "    plt.show()\n",
    "    plt.title(\"Train vs Validation Loss\")\n",
    "    plt.plot(range(1,n+1), train_loss, label=\"Train\")\n",
    "    plt.plot(range(1,n+1), val_loss, label=\"Validation\")\n",
    "    plt.xlabel(\"Epoch\")\n",
    "    plt.ylabel(\"Loss\")\n",
    "    plt.legend(loc='best')\n",
    "    plt.show()\n"
   ]
  },
  {
   "cell_type": "code",
   "execution_count": 266,
   "metadata": {},
   "outputs": [
    {
     "name": "stdout",
     "output_type": "stream",
     "text": [
      "[Epoch 1] Training loss: 1.5664231343560522 Training error: 0.5607353906762967\n",
      "[Epoch 1] Validation loss: 0.9558407664299011 Validation error: 0.3753280839895013\n",
      "[Epoch 2] Training loss: 0.6867823046598478 Training error: 0.2606697307944846\n",
      "[Epoch 2] Validation loss: 0.5855054259300232 Validation error: 0.1994750656167979\n",
      "[Epoch 3] Training loss: 0.3857801785534804 Training error: 0.13328956007879186\n",
      "[Epoch 3] Validation loss: 0.6043157577514648 Validation error: 0.18110236220472442\n",
      "[Epoch 4] Training loss: 0.3461120540345881 Training error: 0.11162179908076166\n",
      "[Epoch 4] Validation loss: 0.6298194527626038 Validation error: 0.19160104986876642\n",
      "[Epoch 5] Training loss: 0.42352335185340884 Training error: 0.12869336835193695\n",
      "[Epoch 5] Validation loss: 0.7924489378929138 Validation error: 0.23097112860892388\n",
      "[Epoch 6] Training loss: 0.2951977802434409 Training error: 0.0984898227183191\n",
      "[Epoch 6] Validation loss: 0.3159838616847992 Validation error: 0.09448818897637795\n",
      "[Epoch 7] Training loss: 0.18299398090365054 Training error: 0.06303348653972422\n",
      "[Epoch 7] Validation loss: 0.43518465757369995 Validation error: 0.14435695538057744\n",
      "[Epoch 8] Training loss: 0.15205574630516888 Training error: 0.05384110308601445\n",
      "[Epoch 8] Validation loss: 0.32446104288101196 Validation error: 0.09186351706036745\n",
      "[Epoch 9] Training loss: 0.1673660766741827 Training error: 0.0623768877216021\n",
      "[Epoch 9] Validation loss: 0.40725937485694885 Validation error: 0.10761154855643044\n",
      "[Epoch 10] Training loss: 0.1405121176476081 Training error: 0.050558108995403805\n",
      "[Epoch 10] Validation loss: 0.49790000915527344 Validation error: 0.14173228346456693\n",
      "Finished Training\n",
      "Total time elapsed: 76.08 seconds\n"
     ]
    }
   ],
   "source": [
    "model = FeatureClassifier()\n",
    "train_net2(model, training_features, training_labels, val_features, val_labels, batch_size=64, num_epochs=10, learning_rate=0.01)"
   ]
  },
  {
   "cell_type": "code",
   "execution_count": 269,
   "metadata": {},
   "outputs": [
    {
     "name": "stdout",
     "output_type": "stream",
     "text": [
      "[Epoch 1] Training loss: 2.1731066638047336 Training error: 0.757715036112935\n",
      "[Epoch 1] Validation loss: 1.8470910787582397 Validation error: 0.49606299212598426\n",
      "[Epoch 2] Training loss: 1.5815155369939573 Training error: 0.36769533814839134\n",
      "[Epoch 2] Validation loss: 1.1967055797576904 Validation error: 0.2992125984251969\n",
      "[Epoch 3] Training loss: 1.0034734834907717 Training error: 0.27905449770190416\n",
      "[Epoch 3] Validation loss: 0.8367943167686462 Validation error: 0.2677165354330709\n",
      "[Epoch 4] Training loss: 0.710641040664242 Training error: 0.23703217334208798\n",
      "[Epoch 4] Validation loss: 0.6810337901115417 Validation error: 0.2152230971128609\n",
      "[Epoch 5] Training loss: 0.5293686955051835 Training error: 0.17137229152987524\n",
      "[Epoch 5] Validation loss: 0.5668815970420837 Validation error: 0.18110236220472442\n",
      "[Epoch 6] Training loss: 0.3978635921966693 Training error: 0.13591595535128037\n",
      "[Epoch 6] Validation loss: 0.44337528944015503 Validation error: 0.14960629921259844\n",
      "[Epoch 7] Training loss: 0.3212009662871132 Training error: 0.10439921208141825\n",
      "[Epoch 7] Validation loss: 0.4223341941833496 Validation error: 0.13385826771653545\n",
      "[Epoch 8] Training loss: 0.2633504961480925 Training error: 0.0840446487196323\n",
      "[Epoch 8] Validation loss: 0.3689900040626526 Validation error: 0.11286089238845144\n",
      "[Epoch 9] Training loss: 0.23983939478292485 Training error: 0.07616546290216678\n",
      "[Epoch 9] Validation loss: 0.33614563941955566 Validation error: 0.10236220472440945\n",
      "[Epoch 10] Training loss: 0.21439370839750774 Training error: 0.0695994747209455\n",
      "[Epoch 10] Validation loss: 0.3434825539588928 Validation error: 0.10761154855643044\n",
      "Finished Training\n",
      "Total time elapsed: 51.09 seconds\n"
     ]
    }
   ],
   "source": [
    "#increase batch size\n",
    "model = FeatureClassifier()\n",
    "train_net2(model, training_features, training_labels, val_features, val_labels, batch_size=256, num_epochs=10, learning_rate=0.01)"
   ]
  },
  {
   "cell_type": "code",
   "execution_count": 270,
   "metadata": {},
   "outputs": [
    {
     "name": "stdout",
     "output_type": "stream",
     "text": [
      "[Epoch 1] Training loss: 1.9254307186454829 Training error: 0.6618516086671044\n",
      "[Epoch 1] Validation loss: 1.2419962882995605 Validation error: 0.3648293963254593\n",
      "[Epoch 2] Training loss: 0.9565262021160564 Training error: 0.30860144451739985\n",
      "[Epoch 2] Validation loss: 0.7935082316398621 Validation error: 0.3123359580052493\n",
      "[Epoch 3] Training loss: 0.569074752216502 Training error: 0.20551543007222586\n",
      "[Epoch 3] Validation loss: 0.6772738099098206 Validation error: 0.23622047244094488\n",
      "[Epoch 4] Training loss: 0.48324056463811405 Training error: 0.170059093893631\n",
      "[Epoch 4] Validation loss: 0.5256093144416809 Validation error: 0.17585301837270342\n",
      "[Epoch 5] Training loss: 0.28279477831414085 Training error: 0.08798424162836507\n",
      "[Epoch 5] Validation loss: 0.3611258864402771 Validation error: 0.13648293963254593\n",
      "[Epoch 6] Training loss: 0.1917410391533915 Training error: 0.05121470781352593\n",
      "[Epoch 6] Validation loss: 0.35107821226119995 Validation error: 0.10498687664041995\n",
      "[Epoch 7] Training loss: 0.15044586860421294 Training error: 0.0479317137229153\n",
      "[Epoch 7] Validation loss: 0.3510059714317322 Validation error: 0.09973753280839895\n",
      "[Epoch 8] Training loss: 0.1102543575389559 Training error: 0.03282994090610637\n",
      "[Epoch 8] Validation loss: 0.31114107370376587 Validation error: 0.10761154855643044\n",
      "[Epoch 9] Training loss: 0.09788339919192339 Training error: 0.03217334208798424\n",
      "[Epoch 9] Validation loss: 0.298399418592453 Validation error: 0.08398950131233596\n",
      "[Epoch 10] Training loss: 0.06694189498711008 Training error: 0.021011162179908074\n",
      "[Epoch 10] Validation loss: 0.2799767851829529 Validation error: 0.07874015748031496\n",
      "Finished Training\n",
      "Total time elapsed: 64.83 seconds\n"
     ]
    }
   ],
   "source": [
    "#decrease batch size\n",
    "model = FeatureClassifier()\n",
    "train_net2(model, training_features, training_labels, val_features, val_labels, batch_size=128, num_epochs=10, learning_rate=0.01)"
   ]
  },
  {
   "cell_type": "code",
   "execution_count": 273,
   "metadata": {},
   "outputs": [
    {
     "data": {
      "image/png": "[encoded data removed]",
      "text/plain": [
       "<Figure size 640x480 with 1 Axes>"
      ]
     },
     "metadata": {},
     "output_type": "display_data"
    },
    {
     "data": {
      "image/png": "[encoded data removed]",
      "text/plain": [
       "<Figure size 640x480 with 1 Axes>"
      ]
     },
     "metadata": {},
     "output_type": "display_data"
    }
   ],
   "source": [
    "model_path = get_model_name(model.name, batch_size=128, learning_rate=0.01, epoch=9) #dropout 0.5\n",
    "plot_training_curve2(model_path)"
   ]
  },
  {
   "cell_type": "markdown",
   "metadata": {
    "id": "hQ2tvqJ68Mqb"
   },
   "source": [
    "### Part B.4.d - 2 pt\n",
    "Report the test accuracy of your best model. How does the test accuracy compare to Part 3(d) without transfer learning?"
   ]
  },
  {
   "cell_type": "code",
   "execution_count": 59,
   "metadata": {
    "id": "yCp_kFSg8Q2T"
   },
   "outputs": [],
   "source": [
    "#Modified function to return test features\n",
    "from sklearn.metrics import classification_report\n",
    "def evaluate3(model, test_features, test_labels):\n",
    "\n",
    "    with torch.no_grad():\n",
    "        outputs = model(test_features)\n",
    "        criterion = nn.CrossEntropyLoss()\n",
    "        loss = criterion(outputs, test_labels)\n",
    "        _, preds = torch.max(outputs, 1)\n",
    "        test_error = (preds != test_labels).sum().item() / test_labels.size(0)\n",
    "    print(\"Test error for network '{}' : {:.2f}%\".format(model.name,test_error*100))\n",
    "\n",
    "    #use this next line to view performance by label, if necessary\n",
    "    print(classification_report(test_labels, preds))\n",
    "    return test_error\n"
   ]
  },
  {
   "cell_type": "code",
   "execution_count": 280,
   "metadata": {},
   "outputs": [
    {
     "name": "stdout",
     "output_type": "stream",
     "text": [
      "Test error for network 'FeatureClassifier' : 8.16%\n"
     ]
    },
    {
     "data": {
      "text/plain": [
       "0.08159392789373814"
      ]
     },
     "execution_count": 280,
     "metadata": {},
     "output_type": "execute_result"
    }
   ],
   "source": [
    "evaluate3(model,test_features,test_labels)"
   ]
  },
  {
   "cell_type": "code",
   "execution_count": 17,
   "metadata": {},
   "outputs": [
    {
     "name": "stdout",
     "output_type": "stream",
     "text": [
      "We see a very low test error with the transfer learning model, of 8.16%, where in Part 3d, with no transfer learning, we had a test error of 25.81%. This indicates that transfer learning is a good option for this case. It is also worth noting that it took significantly less tuning and computation time to achieve this performance with the transfer learning model.\n"
     ]
    }
   ],
   "source": [
    "print('''We see a very low test error with the transfer learning model, of 8.16%, where in Part 3d, with no transfer learning, we had a test error of 25.81%. This indicates that transfer learning is a good option for this case. It is also worth noting that it took significantly less tuning and computation time to achieve this performance with the transfer learning model.''')"
   ]
  },
  {
   "attachments": {},
   "cell_type": "markdown",
   "metadata": {},
   "source": [
    "### Part B.4.e - 5 pt\n",
    "Compare the transfer learning strategy used in Part B.3 to a fine-tuning approach and analyze the trade-off between accuracy and computational cost for each approach. Discuss the pros and cons of both methods and explain why fine-tuning may be more suitable for certain tasks while transfer learning may be more suitable for others.\n",
    "\n",
    "In your analysis, consider the following factors:\n",
    "\n",
    "1. The number of layers in the pre-trained network and their relevance to the new task\n",
    "2. The size of the new dataset and the similarity between the pre-trained network's task and the new task\n",
    "3. The computational resources available for training\n",
    "4. The time required to train the network from scratch versus fine-tuning a pre-trained network\n",
    "5. The impact of regularization techniques on the fine-tuning process."
   ]
  },
  {
   "cell_type": "code",
   "execution_count": 147,
   "metadata": {},
   "outputs": [
    {
     "name": "stdout",
     "output_type": "stream",
     "text": [
      "NOTE: the analysis for the following section draws on the code results from Section B.3 and B.4\n"
     ]
    }
   ],
   "source": [
    "print('''NOTE: the analysis for the following section draws on the code results from Section B.3 and B.4''')"
   ]
  },
  {
   "cell_type": "code",
   "execution_count": 24,
   "metadata": {},
   "outputs": [
    {
     "name": "stdout",
     "output_type": "stream",
     "text": [
      "1: Transfer learning works well when the lower layers of the network contain relevant features for the new task, as they can be reused. However, if the new task is different from the pre-trained network's task, then fine-tuning may be more appropriate, as the entire network will need to be adapted to the new task. In our case, AlexNet was trained on over a million images and is intended for image classification, which coincides with our task here of classifying hand gesture images. This makes the pre-trained approach favorable and we see this in the pre-trained model's test error in section B.4 being much lower than the fine tuned model trained from scratch in B.3.\n",
      "\n",
      "2: Transfer learning is more suitable with a smaller dataset, as it enables leveraging the knowledge from the larger pre-trained network's dataset. However, if the new dataset is large and the pre-trained network's task is similar to the new task, then fine-tuning may be more appropriate as it will allow the network to learn from both. In our case, the pre-trained model is favorable as our datasets in this lab are very small at about 2400 images. Thus the pre-trained approach allows us to leverage the knowledge of AlexNet which has been trained on over a million images. This may also have been a contributing factor to better test error in section B.4\n",
      "\n",
      "3: Training a deep learning model from scratch requires a lot of computational resources and can take a long time. Fine-tuning a pre-trained network can be completed without the use of such heavy resources. \n",
      "\n",
      "4: Training a deep learning model from scratch can take a very long time, especially for large datasets. In contrast, fine-tuning a pre-trained network is much faster, as the network has already been trained on a large dataset. We see this in the previous sections where the pre-trained models (Section B.4) only took around 70 seconds to train on the new dataset, while the fine tuning approach in section B.3 took around 25 minutes to train on the dataset. This can be a great advantage as it allows us to train and iterate on our models much more frequently than if we had to train a fine-tuned model every time. \n",
      "\n",
      "5: Regularization techniques such as dropout and weight decay can also be used to help prevent overfitting when fine-tuning a pre-trained network or a network from scratch. They can also affect the performance of the network and must be used carefully. In general, transfer learning is less at risk of overfitting than training from scratch as pre-trained networks are trained on large datasets and provide a more general representation of the data. Training from scratch can suffer from overfit as you are training the model on a much more specific dataset. Regularization techniques can help prevent this. \n",
      "\n",
      "In conclusion, we see that transfer learning is more suitable when the new dataset is smaller, the computational resources are limited, and the pre-trained network's task is similar to the new task. Fine-tuning is more suitable when the new dataset is larger, the computational resources are abundant, and the pre-trained network's task is significantly different from the new task. Hence the task in this lab would seem to favor the use of pre-trained models, and this is backed up by the performance in section B.4 vs section B.3\n"
     ]
    }
   ],
   "source": [
    "print('''1: Transfer learning works well when the lower layers of the network contain relevant features for the new task, as they can be reused. However, if the new task is different from the pre-trained network's task, then fine-tuning may be more appropriate, as the entire network will need to be adapted to the new task. In our case, AlexNet was trained on over a million images and is intended for image classification, which coincides with our task here of classifying hand gesture images. This makes the pre-trained approach favorable and we see this in the pre-trained model's test error in section B.4 being much lower than the fine tuned model trained from scratch in B.3.\n",
    "\n",
    "2: Transfer learning is more suitable with a smaller dataset, as it enables leveraging the knowledge from the larger pre-trained network's dataset. However, if the new dataset is large and the pre-trained network's task is similar to the new task, then fine-tuning may be more appropriate as it will allow the network to learn from both. In our case, the pre-trained model is favorable as our datasets in this lab are very small at about 2400 images. Thus the pre-trained approach allows us to leverage the knowledge of AlexNet which has been trained on over a million images. This may also have been a contributing factor to better test error in section B.4\n",
    "\n",
    "3: Training a deep learning model from scratch requires a lot of computational resources and can take a long time. Fine-tuning a pre-trained network can be completed without the use of such heavy resources. \n",
    "\n",
    "4: Training a deep learning model from scratch can take a very long time, especially for large datasets. In contrast, fine-tuning a pre-trained network is much faster, as the network has already been trained on a large dataset. We see this in the previous sections where the pre-trained models (Section B.4) only took around 70 seconds to train on the new dataset, while the fine tuning approach in section B.3 took around 25 minutes to train on the dataset. This can be a great advantage as it allows us to train and iterate on our models much more frequently than if we had to train a fine-tuned model every time. \n",
    "\n",
    "5: Regularization techniques such as dropout and weight decay can also be used to help prevent overfitting when fine-tuning a pre-trained network or a network from scratch. They can also affect the performance of the network and must be used carefully. In general, transfer learning is less at risk of overfitting than training from scratch as pre-trained networks are trained on large datasets and provide a more general representation of the data. Training from scratch can suffer from overfit as you are training the model on a much more specific dataset. Regularization techniques can help prevent this. \n",
    "\n",
    "In conclusion, we see that transfer learning is more suitable when the new dataset is smaller, the computational resources are limited, and the pre-trained network's task is similar to the new task. Fine-tuning is more suitable when the new dataset is larger, the computational resources are abundant, and the pre-trained network's task is significantly different from the new task. Hence the task in this lab would seem to favor the use of pre-trained models, and this is backed up by the performance in section B.4 vs section B.3''')"
   ]
  },
  {
   "cell_type": "markdown",
   "metadata": {
    "id": "XrDPb0orGZYJ"
   },
   "source": [
    "### Part B.5 Testing on New Data [10 pt]\n",
    "As a final step in testing we will be revisiting the sample images that you had collected and submitted with your lab. These sample images should be untouched and will be used to demonstrate how well your model works at identifying your hand guestures. \n",
    "\n"
   ]
  },
  {
   "cell_type": "markdown",
   "metadata": {},
   "source": [
    "### Part B.5.a - 3 pt\n",
    "Load and process the hand gesture images you had collected so that they can easily be evaulated by your model."
   ]
  },
  {
   "cell_type": "code",
   "execution_count": 101,
   "metadata": {},
   "outputs": [
    {
     "name": "stderr",
     "output_type": "stream",
     "text": [
      "c:\\Users\\alvipane\\AppData\\Local\\Programs\\Python\\Python310\\lib\\site-packages\\torchvision\\models\\_utils.py:208: UserWarning: The parameter 'pretrained' is deprecated since 0.13 and may be removed in the future, please use 'weights' instead.\n",
      "  warnings.warn(\n",
      "c:\\Users\\alvipane\\AppData\\Local\\Programs\\Python\\Python310\\lib\\site-packages\\torchvision\\models\\_utils.py:223: UserWarning: Arguments other than a weight enum or `None` for 'weights' are deprecated since 0.13 and may be removed in the future. The current behavior is equivalent to passing `weights=AlexNet_Weights.IMAGENET1K_V1`. You can also use `weights=AlexNet_Weights.DEFAULT` to get the most up-to-date weights.\n",
      "  warnings.warn(msg)\n"
     ]
    }
   ],
   "source": [
    "\n",
    "_,_,_,_,hg_features,hg_labels = getFeaturesAndLabels(batch_size=128, test_root='C:\\\\Users\\\\alvipane\\\\Desktop\\\\Machine Learning\\\\1517\\\\Lab\\\\2\\\\Gesture Images Resized')"
   ]
  },
  {
   "cell_type": "markdown",
   "metadata": {},
   "source": [
    "### Part B.5.b - 7 pt\n",
    "Using the best transfer learning model developed in Part 4. Report the test accuracy on your sample images and how it compares to the test accuracy obtained in Part 4(d)? How well did your model do for the different hand guestures? Provide an explanation for why you think your model performed the way it did?  \n",
    "\n",
    "This question will also be evaluated on the overal performance achieved."
   ]
  },
  {
   "cell_type": "code",
   "execution_count": 103,
   "metadata": {},
   "outputs": [
    {
     "name": "stdout",
     "output_type": "stream",
     "text": [
      "Test error for network 'FeatureClassifier' : 3.70%\n",
      "              precision    recall  f1-score   support\n",
      "\n",
      "           0       0.75      1.00      0.86         3\n",
      "           1       1.00      1.00      1.00         3\n",
      "           2       1.00      1.00      1.00         3\n",
      "           3       1.00      1.00      1.00         3\n",
      "           4       1.00      0.67      0.80         3\n",
      "           5       1.00      1.00      1.00         3\n",
      "           6       1.00      1.00      1.00         3\n",
      "           7       1.00      1.00      1.00         3\n",
      "           8       1.00      1.00      1.00         3\n",
      "\n",
      "    accuracy                           0.96        27\n",
      "   macro avg       0.97      0.96      0.96        27\n",
      "weighted avg       0.97      0.96      0.96        27\n",
      "\n"
     ]
    },
    {
     "data": {
      "text/plain": [
       "0.037037037037037035"
      ]
     },
     "execution_count": 103,
     "metadata": {},
     "output_type": "execute_result"
    }
   ],
   "source": [
    "evaluate3(model,hg_features,hg_labels)"
   ]
  },
  {
   "cell_type": "code",
   "execution_count": 104,
   "metadata": {},
   "outputs": [
    {
     "name": "stdout",
     "output_type": "stream",
     "text": [
      "Our performance here is even better than that in Part 4.d (8.15%), here we have only 3.7% error rate on the test set. We must note that this test set is very small, only 27 images. This indicates that the model only made an error on one of the images, meaning it was perfect on all the hand gestures except for 1 sample. From the classification report we can see that the model failed on 1 sample of class 4 (letter E), incorrectly classifying it as class 0 (letter A). This is reasonable as these 2 particular gestures are very similar. It is possible for our model to perform better with the small generated test set due to random chance. When a small test set is used, there is a higher likelihood that the sample of data used for testing is not representative of the overall data distribution. This can lead to slightly misleading results. Our model was already shown to perform quite well at the task from the previous test set, so it is very possible that this very small generated test set coincidentally contained data that was easier for this model to classify.\n",
      "\n",
      "Another possibility is that my generated images were not diverse enough. I referenced the training set when creating my images, and did not include any data augmentation such as rotations. This made my generated test set very similar to the training set, which was already well fit to the model. With such a small sample size it then resulted in a very low test error. \n",
      "\n",
      "Therefore, while this low test error on a small test set is a good sign, it would be misleading to claim that my model is nearly perfect at classifying different hand gestures. We would need to generate a much larger dataset, and with more variations and hands in the images before we can reach a conclusion.\n"
     ]
    }
   ],
   "source": [
    "print('''Our performance here is even better than that in Part 4.d (8.15%), here we have only 3.7% error rate on the test set. We must note that this test set is very small, only 27 images. This indicates that the model only made an error on one of the images, meaning it was perfect on all the hand gestures except for 1 sample. From the classification report we can see that the model failed on 1 sample of class 4 (letter E), incorrectly classifying it as class 0 (letter A). This is reasonable as these 2 particular gestures are very similar. It is possible for our model to perform better with the small generated test set due to random chance. When a small test set is used, there is a higher likelihood that the sample of data used for testing is not representative of the overall data distribution. This can lead to slightly misleading results. Our model was already shown to perform quite well at the task from the previous test set, so it is very possible that this very small generated test set coincidentally contained data that was easier for this model to classify.\n",
    "\n",
    "Another possibility is that my generated images were not diverse enough. I referenced the training set when creating my images, and did not include any data augmentation such as rotations. This made my generated test set very similar to the training set, which was already well fit to the model. With such a small sample size it then resulted in a very low test error. \n",
    "\n",
    "Therefore, while this low test error on a small test set is a good sign, it would be misleading to claim that my model is nearly perfect at classifying different hand gestures. We would need to generate a much larger dataset, and with more variations and hands in the images before we can reach a conclusion.''')"
   ]
  },
  {
   "cell_type": "markdown",
   "metadata": {},
   "source": [
    "### Part B.6 Trade-off Between Accuracy and Computational Cost [16 pt]\n",
    "We will now examine the trade-off between accuracy and computational cost for different transfer learning strategies.\n",
    "\n",
    "### Part B.6.a -  4 pt\n",
    "Compare the accuracy and computational cost of fine-tuning only the last fully connected layer of a pre-trained model versus fine-tuning multiple layers of a pre-trained model. How does the trade-off between accuracy and computational cost change with the number of fine-tuned layers?"
   ]
  },
  {
   "cell_type": "code",
   "execution_count": 107,
   "metadata": {},
   "outputs": [],
   "source": [
    "#We have multiple FC layers in B.4, here lets create a new model with 1 FC layer\n",
    "class NewFeatureClassifier(nn.Module):\n",
    "    def __init__(self, num_classes=9):\n",
    "        super(NewFeatureClassifier, self).__init__()\n",
    "        \n",
    "        self.fc1 = nn.Linear(256 * 6 * 6, 4096)\n",
    "        #self.fc2 = nn.Linear(4096, 4096)\n",
    "        #self.fc3 = nn.Linear(4096, num_classes)\n",
    "        #self.relu = nn.ReLU()\n",
    "        #self.dropout = nn.Dropout(p=0.5)\n",
    "        self.name = 'NewFeatureClassifier'\n",
    "        \n",
    "    def forward(self, x):\n",
    "        # Flatten input features\n",
    "        x = x.view(x.size(0), -1)\n",
    "        # Pass the input through\n",
    "        x = self.fc1(x)\n",
    "        #x = self.relu(x)\n",
    "        #x = self.dropout(x)\n",
    "        #x = self.fc2(x)\n",
    "        #x = self.relu(x)\n",
    "        #x = self.dropout(x)\n",
    "        #x = self.fc3(x)\n",
    "        \n",
    "        return x"
   ]
  },
  {
   "cell_type": "code",
   "execution_count": 117,
   "metadata": {},
   "outputs": [
    {
     "name": "stdout",
     "output_type": "stream",
     "text": [
      "[Epoch 1] Training loss: 3.7295092997860926 Training error: 0.5128036769533815\n",
      "[Epoch 1] Validation loss: 2.260667562484741 Validation error: 0.31758530183727035\n",
      "[Epoch 2] Training loss: 1.1849745551927733 Training error: 0.1917268548916612\n",
      "[Epoch 2] Validation loss: 1.7706516981124878 Validation error: 0.1784776902887139\n",
      "[Epoch 3] Training loss: 0.5686325742003954 Training error: 0.0912672357189757\n",
      "[Epoch 3] Validation loss: 0.6167577505111694 Validation error: 0.09711286089238845\n",
      "[Epoch 4] Training loss: 0.2562619482930835 Training error: 0.05252790544977019\n",
      "[Epoch 4] Validation loss: 0.6413435935974121 Validation error: 0.10236220472440945\n",
      "[Epoch 5] Training loss: 0.1934438731743956 Training error: 0.04530531845042679\n",
      "[Epoch 5] Validation loss: 0.6465728282928467 Validation error: 0.11023622047244094\n",
      "[Epoch 6] Training loss: 0.09915800620596893 Training error: 0.026920551543007223\n",
      "[Epoch 6] Validation loss: 0.5324525833129883 Validation error: 0.08661417322834646\n",
      "[Epoch 7] Training loss: 0.07712872519120526 Training error: 0.026263952724885097\n",
      "[Epoch 7] Validation loss: 0.4248562455177307 Validation error: 0.07086614173228346\n",
      "[Epoch 8] Training loss: 0.07430036931505973 Training error: 0.028233749179251477\n",
      "[Epoch 8] Validation loss: 0.4819278120994568 Validation error: 0.07874015748031496\n",
      "[Epoch 9] Training loss: 0.08645518633854365 Training error: 0.030860144451739988\n",
      "[Epoch 9] Validation loss: 0.5752323865890503 Validation error: 0.11811023622047244\n",
      "[Epoch 10] Training loss: 0.13855015742332624 Training error: 0.048588312541037425\n",
      "[Epoch 10] Validation loss: 0.7468429803848267 Validation error: 0.11548556430446194\n",
      "Finished Training\n",
      "Total time elapsed: 39.89 seconds\n"
     ]
    }
   ],
   "source": [
    "#train model\n",
    "model = NewFeatureClassifier()\n",
    "train_net2(model, training_features, training_labels, val_features, val_labels, batch_size=128, num_epochs=10, learning_rate=0.01)"
   ]
  },
  {
   "cell_type": "code",
   "execution_count": 118,
   "metadata": {},
   "outputs": [
    {
     "name": "stdout",
     "output_type": "stream",
     "text": [
      "Test error for network 'NewFeatureClassifier' : 9.68%\n",
      "              precision    recall  f1-score   support\n",
      "\n",
      "           0       1.00      0.76      0.87        59\n",
      "           1       0.98      0.97      0.97        60\n",
      "           2       0.95      0.92      0.93        60\n",
      "           3       0.89      0.97      0.93        60\n",
      "           4       0.72      1.00      0.84        60\n",
      "           5       0.98      0.85      0.91        60\n",
      "           6       0.98      0.75      0.85        60\n",
      "           7       0.86      0.95      0.90        60\n",
      "           8       0.89      0.98      0.93        48\n",
      "\n",
      "    accuracy                           0.90       527\n",
      "   macro avg       0.92      0.90      0.90       527\n",
      "weighted avg       0.92      0.90      0.90       527\n",
      "\n"
     ]
    },
    {
     "data": {
      "text/plain": [
       "0.0967741935483871"
      ]
     },
     "execution_count": 118,
     "metadata": {},
     "output_type": "execute_result"
    }
   ],
   "source": [
    "#eval on test set\n",
    "evaluate3(model,test_features,test_labels)"
   ]
  },
  {
   "cell_type": "code",
   "execution_count": 134,
   "metadata": {},
   "outputs": [
    {
     "name": "stdout",
     "output_type": "stream",
     "text": [
      "Test error for network 'NewFeatureClassifier' : 3.70%\n",
      "              precision    recall  f1-score   support\n",
      "\n",
      "           0       1.00      1.00      1.00         3\n",
      "           1       1.00      0.67      0.80         3\n",
      "           2       1.00      1.00      1.00         3\n",
      "           3       1.00      1.00      1.00         3\n",
      "           4       0.75      1.00      0.86         3\n",
      "           5       1.00      1.00      1.00         3\n",
      "           6       1.00      1.00      1.00         3\n",
      "           7       1.00      1.00      1.00         3\n",
      "           8       1.00      1.00      1.00         3\n",
      "\n",
      "    accuracy                           0.96        27\n",
      "   macro avg       0.97      0.96      0.96        27\n",
      "weighted avg       0.97      0.96      0.96        27\n",
      "\n"
     ]
    },
    {
     "data": {
      "text/plain": [
       "0.037037037037037035"
      ]
     },
     "execution_count": 134,
     "metadata": {},
     "output_type": "execute_result"
    }
   ],
   "source": [
    "#eval on hand generated set\n",
    "evaluate3(model,hg_features,hg_labels)"
   ]
  },
  {
   "cell_type": "code",
   "execution_count": 138,
   "metadata": {},
   "outputs": [
    {
     "name": "stdout",
     "output_type": "stream",
     "text": [
      "Only having one fully connected layer results in slightly worse performance on the test set, and equal performance on the small generated set. Fine-tuning only the last fully connected layer of a pre-trained model requires less computational resources than fine-tuning multiple layers. However, as we see, fine-tuning multiple layers of a pre-trained model is likely to result in a higher accuracy.\n",
      "\n",
      "As the number of fine-tuned layers increases, we expect the accuracy of the model will continue to improve, but the computational cost will also increase.\n",
      "\n",
      "This trade-off means that the number of fine-tuned layers should depend on the desired trade-off between accuracy and computational cost for the given use case. In some cases, based on the desired accuracy, fine-tuning only the last fully connected layer may be sufficient, while in others fine-tuning multiple layers are necessary to achieve the desired accuracy.\n"
     ]
    }
   ],
   "source": [
    "print('''Only having one fully connected layer results in slightly worse performance on the test set, and equal performance on the small generated set. Fine-tuning only the last fully connected layer of a pre-trained model requires less computational resources than fine-tuning multiple layers. However, as we see, fine-tuning multiple layers of a pre-trained model is likely to result in a higher accuracy.\n",
    "\n",
    "As the number of fine-tuned layers increases, we expect the accuracy of the model will continue to improve, but the computational cost will also increase.\n",
    "\n",
    "This trade-off means that the number of fine-tuned layers should depend on the desired trade-off between accuracy and computational cost for the given use case. In some cases, based on the desired accuracy, fine-tuning only the last fully connected layer may be sufficient, while in others fine-tuning multiple layers are necessary to achieve the desired accuracy.''')\n",
    "\n"
   ]
  },
  {
   "cell_type": "markdown",
   "metadata": {},
   "source": [
    "### Part B.6.b -  4 pt\n",
    "Analyze the trade-off between accuracy and computational cost for transfer learning with a pre-trained model versus training a model from scratch. What factors contribute to this trade-off and how does the choice between these two strategies depend on the size of the dataset and the amount of computational resources available?"
   ]
  },
  {
   "cell_type": "code",
   "execution_count": 137,
   "metadata": {},
   "outputs": [
    {
     "name": "stdout",
     "output_type": "stream",
     "text": [
      "As discussed in B.4.e, transfer learning with a pre-trained model and training a model from scratch has trade-offs between accuracy and computational cost.\n",
      "\n",
      "When using a pre-trained model, the initial weights of the model have already been optimized on a very large dataset, so the model requires less training to achieve good accuracy on a new task. This makes transfer learning a computationally efficient strategy, especially when the size of the new dataset is small. However, the accuracy of the model may be limited by the pre-trained weights, and fine-tuning the model to the new task may still require a significant amount of computational resources.\n",
      "\n",
      "On the other hand, training a model from scratch can lead to higher accuracy, since the model is optimized specifically for the new task. However, this approach requires a much larger amount of computational resources, especially when the size of the dataset is large. The model must be trained for many iterations to achieve good accuracy, and overfitting can be a concern.\n",
      "\n",
      "The choice between these two strategies depends on the size of the dataset and the amount of computational resources available. If the size of the dataset is small and computational resources are limited, transfer learning with a pre-trained model may be a good choice. If the size of the dataset is large and computational resources are abundant, training a model from scratch may be a better choice.\n",
      "\n",
      "If the task is similar to the task for which the pre-trained model was optimized, transfer learning may lead to good results with limited computational resources. On the other hand, if the task is significantly different or there is domain-specific knowledge that can be leveraged, training a model from scratch may be the better choice.\n",
      "\n",
      "Looking specifically at our case, with the task of classifying hand gesture images, the pre-trained model provided both reduced computational cost and better accuracy. This is because all the conditions discussed above that favor transfer learning were true. We did indeed have a small dataset of only about 2400 images. We also were using the AlexNet network, which was trained on a million images and intended for image classification, a task which coincides with ours, making transfer learning applicable. We also had limited compute resources, working from my local machine. These factors influenced the results. The typical pre-trained model took about 70 seconds to train, where as the typical model trained from scratch took about 25 minutes to train. This allowed me to rapidly iterate on my tuning parameters and ultimately achieve significantly better performance in test error, at a much lower computational cost.\n"
     ]
    }
   ],
   "source": [
    "print('''As discussed in B.4.e, transfer learning with a pre-trained model and training a model from scratch has trade-offs between accuracy and computational cost.\n",
    "\n",
    "When using a pre-trained model, the initial weights of the model have already been optimized on a very large dataset, so the model requires less training to achieve good accuracy on a new task. This makes transfer learning a computationally efficient strategy, especially when the size of the new dataset is small. However, the accuracy of the model may be limited by the pre-trained weights, and fine-tuning the model to the new task may still require a significant amount of computational resources.\n",
    "\n",
    "On the other hand, training a model from scratch can lead to higher accuracy, since the model is optimized specifically for the new task. However, this approach requires a much larger amount of computational resources, especially when the size of the dataset is large. The model must be trained for many iterations to achieve good accuracy, and overfitting can be a concern.\n",
    "\n",
    "The choice between these two strategies depends on the size of the dataset and the amount of computational resources available. If the size of the dataset is small and computational resources are limited, transfer learning with a pre-trained model may be a good choice. If the size of the dataset is large and computational resources are abundant, training a model from scratch may be a better choice.\n",
    "\n",
    "If the task is similar to the task for which the pre-trained model was optimized, transfer learning may lead to good results with limited computational resources. On the other hand, if the task is significantly different or there is domain-specific knowledge that can be leveraged, training a model from scratch may be the better choice.\n",
    "\n",
    "Looking specifically at our case, with the task of classifying hand gesture images, the pre-trained model provided both reduced computational cost and better accuracy. This is because all the conditions discussed above that favor transfer learning were true. We did indeed have a small dataset of only about 2400 images. We also were using the AlexNet network, which was trained on a million images and intended for image classification, a task which coincides with ours, making transfer learning applicable. We also had limited compute resources, working from my local machine. These factors influenced the results. The typical pre-trained model took about 70 seconds to train, where as the typical model trained from scratch took about 25 minutes to train. This allowed me to rapidly iterate on my tuning parameters and ultimately achieve significantly better performance in test error, at a much lower computational cost.''')"
   ]
  },
  {
   "cell_type": "markdown",
   "metadata": {},
   "source": [
    "### Part B.6.c -  4 pt\n",
    "Investigate the impact of freezing some of the layers in a pre-trained model during fine-tuning. How does the trade-off between accuracy and computational cost change with the number of frozen layers and how does this impact overall performance?"
   ]
  },
  {
   "cell_type": "code",
   "execution_count": 296,
   "metadata": {},
   "outputs": [],
   "source": [
    "#modify code to freeze some layers during training\n",
    "class FeatureClassifierFreeze(nn.Module):\n",
    "    def __init__(self, num_classes=10, freeze_layers=True):\n",
    "        super(FeatureClassifierFreeze, self).__init__()\n",
    "        \n",
    "        self.fc1 = nn.Linear(256 * 6 * 6, 4096)\n",
    "        self.fc2 = nn.Linear(4096, 4096)\n",
    "        self.fc3 = nn.Linear(4096, num_classes)\n",
    "        self.relu = nn.ReLU()\n",
    "\n",
    "        self.dropout = nn.Dropout(p=0.5)\n",
    "        self.name = 'FeatureClassifierFreeze'\n",
    "        \n",
    "        self.freeze_layers = freeze_layers\n",
    "        \n",
    "        if self.freeze_layers:\n",
    "            # Freeze the weights of the first two layers\n",
    "            self.fc1.requires_grad = False\n",
    "            self.fc2.requires_grad = False\n",
    "        \n",
    "    def forward(self, x):\n",
    "        # Flatten the input features\n",
    "        x = x.view(x.size(0), -1)\n",
    "        \n",
    "        # Pass the input through the fully connected layers\n",
    "        x = self.fc1(x)\n",
    "        x = self.relu(x)\n",
    "        x = self.dropout(x)\n",
    "        \n",
    "        if self.freeze_layers:\n",
    "            # Freeze the weights of the first two layers\n",
    "            x = x.detach()\n",
    "            \n",
    "        x = self.fc2(x)\n",
    "        x = self.relu(x)\n",
    "        x = self.dropout(x)\n",
    "        x = self.fc3(x)\n",
    "        \n",
    "        return x\n"
   ]
  },
  {
   "cell_type": "code",
   "execution_count": 298,
   "metadata": {},
   "outputs": [
    {
     "name": "stdout",
     "output_type": "stream",
     "text": [
      "[Epoch 1] Training loss: 2.1116738873567535 Training error: 0.7426132632961261\n",
      "[Epoch 1] Validation loss: 1.7793055772781372 Validation error: 0.5459317585301837\n",
      "[Epoch 2] Training loss: 1.5058912551489145 Training error: 0.43795141168745894\n",
      "[Epoch 2] Validation loss: 1.2374804019927979 Validation error: 0.4251968503937008\n",
      "[Epoch 3] Training loss: 1.0274120588797295 Training error: 0.31779382797110967\n",
      "[Epoch 3] Validation loss: 0.8952343463897705 Validation error: 0.31496062992125984\n",
      "[Epoch 4] Training loss: 0.74739115784533 Training error: 0.22849638870650033\n",
      "[Epoch 4] Validation loss: 0.706081211566925 Validation error: 0.22572178477690288\n",
      "[Epoch 5] Training loss: 0.5986727202948346 Training error: 0.1845042678923178\n",
      "[Epoch 5] Validation loss: 0.5690919756889343 Validation error: 0.1784776902887139\n",
      "[Epoch 6] Training loss: 0.5045425855870789 Training error: 0.15758371634931057\n",
      "[Epoch 6] Validation loss: 0.5506649613380432 Validation error: 0.18635170603674542\n",
      "[Epoch 7] Training loss: 0.4329855274543587 Training error: 0.12869336835193695\n",
      "[Epoch 7] Validation loss: 0.5083221793174744 Validation error: 0.1837270341207349\n",
      "[Epoch 8] Training loss: 0.3945490260384072 Training error: 0.1175311884438608\n",
      "[Epoch 8] Validation loss: 0.47794169187545776 Validation error: 0.15748031496062992\n",
      "[Epoch 9] Training loss: 0.3638084409116368 Training error: 0.11359159553512804\n",
      "[Epoch 9] Validation loss: 0.456899493932724 Validation error: 0.14435695538057744\n",
      "[Epoch 10] Training loss: 0.3262329702696672 Training error: 0.10111621799080761\n",
      "[Epoch 10] Validation loss: 0.4684361219406128 Validation error: 0.16535433070866143\n",
      "[Epoch 11] Training loss: 0.3039682104019295 Training error: 0.09192383453709783\n",
      "[Epoch 11] Validation loss: 0.4769839644432068 Validation error: 0.16535433070866143\n",
      "[Epoch 12] Training loss: 0.2737123047295794 Training error: 0.08141825344714379\n",
      "[Epoch 12] Validation loss: 0.45399558544158936 Validation error: 0.14173228346456693\n",
      "[Epoch 13] Training loss: 0.2719136749688372 Training error: 0.08798424162836507\n",
      "[Epoch 13] Validation loss: 0.48062077164649963 Validation error: 0.18635170603674542\n",
      "[Epoch 14] Training loss: 0.26865726227988873 Training error: 0.08667104399212082\n",
      "[Epoch 14] Validation loss: 0.4368017017841339 Validation error: 0.15485564304461943\n",
      "[Epoch 15] Training loss: 0.2482859585837792 Training error: 0.07944845699277742\n",
      "[Epoch 15] Validation loss: 0.4003928005695343 Validation error: 0.15223097112860892\n",
      "[Epoch 16] Training loss: 0.2383701514822045 Training error: 0.07222586999343401\n",
      "[Epoch 16] Validation loss: 0.3408954441547394 Validation error: 0.10761154855643044\n",
      "[Epoch 17] Training loss: 0.22318897385074368 Training error: 0.07616546290216678\n",
      "[Epoch 17] Validation loss: 0.3752214014530182 Validation error: 0.11286089238845144\n",
      "[Epoch 18] Training loss: 0.21742941217053038 Training error: 0.06369008535784636\n",
      "[Epoch 18] Validation loss: 0.35942190885543823 Validation error: 0.11548556430446194\n",
      "[Epoch 19] Training loss: 0.1974927291068605 Training error: 0.06762967826657912\n",
      "[Epoch 19] Validation loss: 0.3810712695121765 Validation error: 0.13648293963254593\n",
      "[Epoch 20] Training loss: 0.2057977771571179 Training error: 0.06894287590282337\n",
      "[Epoch 20] Validation loss: 0.37998348474502563 Validation error: 0.12335958005249344\n",
      "Finished Training\n",
      "Total time elapsed: 70.35 seconds\n"
     ]
    }
   ],
   "source": [
    "model = FeatureClassifierFreeze()\n",
    "train_net2(model, training_features, training_labels, val_features, val_labels, batch_size=128, num_epochs=20, learning_rate=0.01)"
   ]
  },
  {
   "cell_type": "code",
   "execution_count": 299,
   "metadata": {},
   "outputs": [
    {
     "name": "stdout",
     "output_type": "stream",
     "text": [
      "Test error for network 'FeatureClassifierFreeze' : 11.11%\n"
     ]
    },
    {
     "data": {
      "text/plain": [
       "0.1111111111111111"
      ]
     },
     "execution_count": 299,
     "metadata": {},
     "output_type": "execute_result"
    }
   ],
   "source": [
    "evaluate3(model,hg_features,hg_labels)"
   ]
  },
  {
   "cell_type": "code",
   "execution_count": 300,
   "metadata": {},
   "outputs": [
    {
     "name": "stdout",
     "output_type": "stream",
     "text": [
      "Test error for network 'FeatureClassifierFreeze' : 12.52%\n"
     ]
    },
    {
     "data": {
      "text/plain": [
       "0.1252371916508539"
      ]
     },
     "execution_count": 300,
     "metadata": {},
     "output_type": "execute_result"
    }
   ],
   "source": [
    "evaluate3(model,test_features,test_labels)"
   ]
  },
  {
   "cell_type": "code",
   "execution_count": 146,
   "metadata": {},
   "outputs": [
    {
     "name": "stdout",
     "output_type": "stream",
     "text": [
      "When a layer is frozen during fine-tuning, the weights of that layer are not updated during training, so the layer keeps the pre-trained weights. This can help to reduce the risk of overfitting, since the frozen layer is a regularizer. \n",
      "\n",
      "Since this method is intended to reduce overfitting, in the above code we freeze the first 2 layers in the FeatureClassiferNetwork from section B.4.b and compare the results to the original network. We see that we are not fitting quite as well on the training data, with a slightly higher training error (0.068 vs 0.021), which is in line with our expectation since we reduced the fit by freezing some layers. The validation error is also higher (0.12 vs 0.078). Consequently, the result is that the test error is also higher on both the test set and the hand generated set.\n",
      "\n",
      "While there was not much difference in training time here, we know that freezing some layers requires less computational resources, since the gradients for the frozen layer do not need to be computed during backpropagation. This leads to a trade-off, where freezing layers can give increased computational efficiency and less overfitting, but likely at the cost of model accuracy. One must be careful not to freeze too many layers as it can limit the ability of the model to learn task-specific features.\n",
      "\n",
      "In general, freezing a few layers can have a positive impact on performance, while freezing too many layers can lead to decreased accuracy. The optimal number of frozen layers needs to be tuned to balance the trade-off.\n"
     ]
    }
   ],
   "source": [
    "\n",
    "print('''When a layer is frozen during fine-tuning, the weights of that layer are not updated during training, so the layer keeps the pre-trained weights. This can help to reduce the risk of overfitting, since the frozen layer is a regularizer. \n",
    "\n",
    "Since this method is intended to reduce overfitting, in the above code we freeze the first 2 layers in the FeatureClassiferNetwork from section B.4.b and compare the results to the original network. We see that we are not fitting quite as well on the training data, with a slightly higher training error (0.068 vs 0.021), which is in line with our expectation since we reduced the fit by freezing some layers. The validation error is also higher (0.12 vs 0.078). Consequently, the result is that the test error is also higher on both the test set and the hand generated set.\n",
    "\n",
    "While there was not much difference in training time here, we know that freezing some layers requires less computational resources, since the gradients for the frozen layer do not need to be computed during backpropagation. This leads to a trade-off, where freezing layers can give increased computational efficiency and less overfitting, but likely at the cost of model accuracy. One must be careful not to freeze too many layers as it can limit the ability of the model to learn task-specific features.\n",
    "\n",
    "In general, freezing a few layers can have a positive impact on performance, while freezing too many layers can lead to decreased accuracy. The optimal number of frozen layers needs to be tuned to balance the trade-off.''')"
   ]
  },
  {
   "cell_type": "markdown",
   "metadata": {},
   "source": [
    "### Part B.6.d -  4 pt\n",
    "Evaluate the trade-off between accuracy and computational cost for transfer learning using a pre-trained model with a similar architecture versus using a pre-trained model with a different architecture. How does this trade-off change with the similarity of the architectures and what impact does this have on the overall performance of the model?"
   ]
  },
  {
   "cell_type": "code",
   "execution_count": 148,
   "metadata": {},
   "outputs": [
    {
     "name": "stdout",
     "output_type": "stream",
     "text": [
      "In the previous section we used the pre-trained AlexNet model as a base to classify our hand gestures. AlexNet was used as it has a similar architecture to the relative to the base model it was applied to. In this section we will analyze what happens when using a pre-trained model with a different architecture. The pre-trained model we will choose is ResNet. In terms of architecture, AlexNet is very shallow, and has five convolutional layers, max-pooling layers, and three fully connected layers. ResNet, on the other hand, has a much deeper architecture, with over 100 layers. ResNet uses blocks to build a very deep network. Thus, we can see that ResNet has quite a different architecture to the previously used AlexNet. We will now train and evaluate the ResNet model to compare its performance to that of AlexNet in section B.4.\n"
     ]
    }
   ],
   "source": [
    "print('''In the previous section we used the pre-trained AlexNet model as a base to classify our hand gestures. AlexNet was used as it has a similar architecture to the relative to the base model it was applied to. In this section we will analyze what happens when using a pre-trained model with a different architecture. The pre-trained model we will choose is ResNet. In terms of architecture, AlexNet is very shallow, and has five convolutional layers, max-pooling layers, and three fully connected layers. ResNet, on the other hand, has a much deeper architecture, with over 100 layers. ResNet uses blocks to build a very deep network. Thus, we can see that ResNet has quite a different architecture to the previously used AlexNet. We will now train and evaluate the ResNet model to compare its performance to that of AlexNet in section B.4.''')"
   ]
  },
  {
   "cell_type": "code",
   "execution_count": 170,
   "metadata": {},
   "outputs": [],
   "source": [
    "#new loader function to get ResNet features\n",
    "\n",
    "def getFeaturesAndLabelsRN(batch_size=64, test_root=\"C:\\\\Users\\\\alvipane\\\\Desktop\\\\Machine Learning\\\\1517\\\\Lab\\\\2\\\\Lab_2_Hand_Gesture_Dataset\\\\test\"):\n",
    "    # Load the AlexNet model with pre-trained weights\n",
    "    #import torchvision.models\n",
    "    model = torchvision.models.resnet18(pretrained=True)\n",
    "\n",
    "    # Set the model in evaluation mode\n",
    "    model.eval()\n",
    "\n",
    "    # Load the training dataset\n",
    "    #transform = transforms.Compose([transforms.ToTensor()])\n",
    "    transform = transforms.Compose([\n",
    "            transforms.Resize((224, 224)),\n",
    "            transforms.ToTensor(),\n",
    "            transforms.Normalize((0.5, 0.5, 0.5), (0.5, 0.5, 0.5))\n",
    "        ])\n",
    "   \n",
    "    dataset = torchvision.datasets.ImageFolder(root='C:\\\\Users\\\\alvipane\\\\Desktop\\\\Machine Learning\\\\1517\\\\Lab\\\\2\\\\Lab_2_Hand_Gesture_Dataset\\\\Lab_3b_Gesture_Dataset', transform=transform)\n",
    "    train_size = int(0.8 * len(dataset))\n",
    "    val_size = len(dataset) - train_size\n",
    "    train_dataset, val_dataset = torch.utils.data.random_split(dataset, [train_size, val_size])\n",
    "\n",
    "    # Use DataLoader to load the data in batches\n",
    "    train_loader = torch.utils.data.DataLoader(train_dataset, batch_size=batch_size, shuffle=False) #64 image per batch\n",
    "    val_loader = torch.utils.data.DataLoader(val_dataset, batch_size=batch_size, shuffle=False)\n",
    "\n",
    "    #LOAD TEST\n",
    "    #test_root=\"C:\\\\Users\\\\alvipane\\\\Desktop\\\\Machine Learning\\\\1517\\\\Lab\\\\2\\\\Lab_2_Hand_Gesture_Dataset\\\\test\"\n",
    "    # Load the test dataset using ImageFolder\n",
    "    test_dataset = torchvision.datasets.ImageFolder(test_root, transform=transform)\n",
    "\n",
    "    # Use DataLoader to load the data in batches\n",
    "    test_loader = torch.utils.data.DataLoader(test_dataset, batch_size=batch_size, shuffle=False)\n",
    "\n",
    "    # Compute the training features and labels\n",
    "    # Get the feature extraction layers\n",
    "    features = nn.Sequential(*list(model.children())[:-1])\n",
    "\n",
    "\n",
    "\n",
    "\n",
    "    training_features = []\n",
    "    training_labels = []\n",
    "    for image, label in train_loader:\n",
    "\n",
    "        with torch.no_grad():\n",
    "            features_batch = features(image)\n",
    "        #features = model.features(image)\n",
    "        features_batch = features_batch.view(features_batch.size(0), -1)\n",
    "        training_features.append(features_batch)\n",
    "        training_labels.append(label)\n",
    "\n",
    "    training_features = torch.cat(training_features, dim=0)\n",
    "    training_labels = torch.cat(training_labels, dim=0)\n",
    "\n",
    "    #Compute the validation features and labels\n",
    "    val_features = []\n",
    "    val_labels = []\n",
    "    for image, label in val_loader:\n",
    "        with torch.no_grad():\n",
    "            features_batch = features(image)\n",
    "        #features = model.features(image)\n",
    "        features_batch = features_batch.view(features_batch.size(0), -1)\n",
    "        val_features.append(features_batch)\n",
    "        val_labels.append(label)\n",
    "\n",
    "    val_features = torch.cat(val_features, dim=0)\n",
    "    val_labels = torch.cat(val_labels, dim=0)\n",
    "\n",
    "\n",
    "    #Compute test features and labels\n",
    "    test_features = []\n",
    "    test_labels = []\n",
    "    for image, label in test_loader:\n",
    "        with torch.no_grad():\n",
    "            features_batch = features(image)\n",
    "        #features = model.features(image)\n",
    "        features_batch = features_batch.view(features_batch.size(0), -1)\n",
    "        test_features.append(features_batch)\n",
    "        test_labels.append(label)\n",
    "\n",
    "    test_features = torch.cat(test_features, dim=0)\n",
    "    test_labels = torch.cat(test_labels, dim=0)\n",
    "\n",
    "\n",
    "    return training_features,training_labels,val_features,val_labels,test_features,test_labels"
   ]
  },
  {
   "cell_type": "code",
   "execution_count": 171,
   "metadata": {},
   "outputs": [
    {
     "name": "stderr",
     "output_type": "stream",
     "text": [
      "c:\\Users\\alvipane\\AppData\\Local\\Programs\\Python\\Python310\\lib\\site-packages\\torchvision\\models\\_utils.py:208: UserWarning: The parameter 'pretrained' is deprecated since 0.13 and may be removed in the future, please use 'weights' instead.\n",
      "  warnings.warn(\n",
      "c:\\Users\\alvipane\\AppData\\Local\\Programs\\Python\\Python310\\lib\\site-packages\\torchvision\\models\\_utils.py:223: UserWarning: Arguments other than a weight enum or `None` for 'weights' are deprecated since 0.13 and may be removed in the future. The current behavior is equivalent to passing `weights=ResNet18_Weights.IMAGENET1K_V1`. You can also use `weights=ResNet18_Weights.DEFAULT` to get the most up-to-date weights.\n",
      "  warnings.warn(msg)\n"
     ]
    }
   ],
   "source": [
    "training_featuresRN,training_labelsRN,val_featuresRN,val_labelsRN,test_featuresRN,test_labelsRN = getFeaturesAndLabelsRN(batch_size=128)"
   ]
  },
  {
   "cell_type": "code",
   "execution_count": 177,
   "metadata": {},
   "outputs": [],
   "source": [
    "#augment FeatureClassifier to work with ResNet\n",
    "\n",
    "class FeatureClassifierRN(nn.Module):\n",
    "    def __init__(self, num_classes=9):\n",
    "        super(FeatureClassifierRN, self).__init__()\n",
    "\n",
    "        # Load ResNet feature extractor\n",
    "        #resnet = torchivision.models.resnet18(pretrained=True)\n",
    "        #self.features = nn.Sequential(*list(resnet.children())[:-1])\n",
    "\n",
    "        # Add classifier layers\n",
    "        self.fc1 = nn.Linear(512, 4096)\n",
    "        self.fc2 = nn.Linear(4096, 4096)\n",
    "        self.fc3 = nn.Linear(4096, num_classes)\n",
    "        self.relu = nn.ReLU()\n",
    "        self.dropout = nn.Dropout(p=0.5)\n",
    "        self.name = 'FeatureClassifierRN'\n",
    "\n",
    "    def forward(self, x):\n",
    "        # Extract features using ResNet\n",
    "        #x = self.features(x)\n",
    "        x = x.view(x.size(0), -1)\n",
    "\n",
    "        # Apply classifier layers\n",
    "        x = self.fc1(x)\n",
    "        x = self.relu(x)\n",
    "        x = self.dropout(x)\n",
    "        x = self.fc2(x)\n",
    "        x = self.relu(x)\n",
    "        x = self.dropout(x)\n",
    "        x = self.fc3(x)\n",
    "\n",
    "        return x\n"
   ]
  },
  {
   "cell_type": "code",
   "execution_count": 182,
   "metadata": {},
   "outputs": [
    {
     "name": "stdout",
     "output_type": "stream",
     "text": [
      "[Epoch 1] Training loss: 2.1146998064187663 Training error: 0.7957977675640184\n",
      "[Epoch 1] Validation loss: 1.8580163717269897 Validation error: 0.6929133858267716\n",
      "[Epoch 2] Training loss: 1.5581243042873851 Training error: 0.5699277741300066\n",
      "[Epoch 2] Validation loss: 1.2389013767242432 Validation error: 0.49343832020997375\n",
      "[Epoch 3] Training loss: 1.105812047706649 Training error: 0.42678923177938277\n",
      "[Epoch 3] Validation loss: 1.151777744293213 Validation error: 0.4251968503937008\n",
      "[Epoch 4] Training loss: 0.8525244549396237 Training error: 0.3099146421536441\n",
      "[Epoch 4] Validation loss: 0.7097571492195129 Validation error: 0.25984251968503935\n",
      "[Epoch 5] Training loss: 0.6115234735680503 Training error: 0.23177938279711097\n",
      "[Epoch 5] Validation loss: 0.6003667116165161 Validation error: 0.2204724409448819\n",
      "[Epoch 6] Training loss: 0.5383378377652684 Training error: 0.19960604070912671\n",
      "[Epoch 6] Validation loss: 0.556739091873169 Validation error: 0.18635170603674542\n",
      "[Epoch 7] Training loss: 0.47928476615399807 Training error: 0.18056467498358503\n",
      "[Epoch 7] Validation loss: 0.5221043229103088 Validation error: 0.1679790026246719\n",
      "[Epoch 8] Training loss: 0.46163947943864647 Training error: 0.17137229152987524\n",
      "[Epoch 8] Validation loss: 0.838402271270752 Validation error: 0.28346456692913385\n",
      "[Epoch 9] Training loss: 0.49762013486084467 Training error: 0.18844386080105055\n",
      "[Epoch 9] Validation loss: 0.7237377166748047 Validation error: 0.2283464566929134\n",
      "[Epoch 10] Training loss: 0.46132138929160427 Training error: 0.17071569271175313\n",
      "[Epoch 10] Validation loss: 0.7418834567070007 Validation error: 0.28083989501312334\n",
      "[Epoch 11] Training loss: 0.5006957677188706 Training error: 0.1792514773473408\n",
      "[Epoch 11] Validation loss: 0.7440891265869141 Validation error: 0.27034120734908135\n",
      "[Epoch 12] Training loss: 0.4318411232841226 Training error: 0.16021011162179907\n",
      "[Epoch 12] Validation loss: 0.589150071144104 Validation error: 0.2125984251968504\n",
      "[Epoch 13] Training loss: 0.35397473621431025 Training error: 0.13066316480630336\n",
      "[Epoch 13] Validation loss: 0.5286855101585388 Validation error: 0.17585301837270342\n",
      "[Epoch 14] Training loss: 0.23294780728696446 Training error: 0.07353906762967827\n",
      "[Epoch 14] Validation loss: 0.4788779616355896 Validation error: 0.15485564304461943\n",
      "[Epoch 15] Training loss: 0.26555699920153353 Training error: 0.08732764281024294\n",
      "[Epoch 15] Validation loss: 0.4351993203163147 Validation error: 0.14435695538057744\n",
      "[Epoch 16] Training loss: 0.2454808035416581 Training error: 0.09061063690085358\n",
      "[Epoch 16] Validation loss: 0.5019256472587585 Validation error: 0.14698162729658792\n",
      "[Epoch 17] Training loss: 0.22576783569095485 Training error: 0.08010505581089954\n",
      "[Epoch 17] Validation loss: 0.4709721505641937 Validation error: 0.14173228346456693\n",
      "[Epoch 18] Training loss: 0.2126338204817794 Training error: 0.07288246881155613\n",
      "[Epoch 18] Validation loss: 0.5015602707862854 Validation error: 0.14960629921259844\n",
      "[Epoch 19] Training loss: 0.22309729462772002 Training error: 0.08207485226526592\n",
      "[Epoch 19] Validation loss: 0.5694478750228882 Validation error: 0.14698162729658792\n",
      "[Epoch 20] Training loss: 0.2169934809403598 Training error: 0.07091267235718976\n",
      "[Epoch 20] Validation loss: 0.49039748311042786 Validation error: 0.14960629921259844\n",
      "Finished Training\n",
      "Total time elapsed: 76.37 seconds\n"
     ]
    }
   ],
   "source": [
    "#tune the feature classifier\n",
    "model = FeatureClassifierRN()\n",
    "train_net2(model, training_featuresRN, training_labelsRN, val_featuresRN, val_labelsRN, batch_size=256, num_epochs=20, learning_rate=0.05)"
   ]
  },
  {
   "cell_type": "code",
   "execution_count": 199,
   "metadata": {},
   "outputs": [
    {
     "name": "stdout",
     "output_type": "stream",
     "text": [
      "[Epoch 1] Training loss: 1.771822247470748 Training error: 0.6579120157583717\n",
      "[Epoch 1] Validation loss: 1.131075143814087 Validation error: 0.4566929133858268\n",
      "[Epoch 2] Training loss: 0.9258214639975535 Training error: 0.34077478660538413\n",
      "[Epoch 2] Validation loss: 0.7883837223052979 Validation error: 0.30708661417322836\n",
      "[Epoch 3] Training loss: 0.6934025038721056 Training error: 0.25147734734077476\n",
      "[Epoch 3] Validation loss: 0.700819194316864 Validation error: 0.25196850393700787\n",
      "[Epoch 4] Training loss: 0.6187325284736217 Training error: 0.21470781352593565\n",
      "[Epoch 4] Validation loss: 0.7170971035957336 Validation error: 0.28346456692913385\n",
      "[Epoch 5] Training loss: 0.6030988837259034 Training error: 0.21208141825344715\n",
      "[Epoch 5] Validation loss: 0.6991753578186035 Validation error: 0.25984251968503935\n",
      "[Epoch 6] Training loss: 0.5091456509074802 Training error: 0.18122127380170716\n",
      "[Epoch 6] Validation loss: 0.5953387022018433 Validation error: 0.22572178477690288\n",
      "[Epoch 7] Training loss: 0.46205804383997373 Training error: 0.16677609980302036\n",
      "[Epoch 7] Validation loss: 0.5772632360458374 Validation error: 0.2047244094488189\n",
      "[Epoch 8] Training loss: 0.48965142294519914 Training error: 0.17859487852921865\n",
      "[Epoch 8] Validation loss: 0.6456753611564636 Validation error: 0.2230971128608924\n",
      "[Epoch 9] Training loss: 0.45371492536773983 Training error: 0.15955351280367697\n",
      "[Epoch 9] Validation loss: 0.5633928775787354 Validation error: 0.18635170603674542\n",
      "[Epoch 10] Training loss: 0.38370356149604584 Training error: 0.14445173998686803\n",
      "[Epoch 10] Validation loss: 0.519675076007843 Validation error: 0.17585301837270342\n",
      "[Epoch 11] Training loss: 0.36609785242137044 Training error: 0.11621799080761655\n",
      "[Epoch 11] Validation loss: 0.5921237468719482 Validation error: 0.1994750656167979\n",
      "[Epoch 12] Training loss: 0.4101798000573642 Training error: 0.1372291529875246\n",
      "[Epoch 12] Validation loss: 0.5567830204963684 Validation error: 0.1942257217847769\n",
      "[Epoch 13] Training loss: 0.3653687378801332 Training error: 0.13788575180564674\n",
      "[Epoch 13] Validation loss: 0.5285394787788391 Validation error: 0.2099737532808399\n",
      "[Epoch 14] Training loss: 0.37742271175998177 Training error: 0.13066316480630336\n",
      "[Epoch 14] Validation loss: 0.8782632946968079 Validation error: 0.27296587926509186\n",
      "[Epoch 15] Training loss: 0.3340353043707123 Training error: 0.12738017071569271\n",
      "[Epoch 15] Validation loss: 0.6352254152297974 Validation error: 0.1994750656167979\n",
      "[Epoch 16] Training loss: 0.3402180937819002 Training error: 0.11227839789888379\n",
      "[Epoch 16] Validation loss: 0.7342841029167175 Validation error: 0.2283464566929134\n",
      "[Epoch 17] Training loss: 0.2945190221169084 Training error: 0.11293499671700591\n",
      "[Epoch 17] Validation loss: 0.5107821822166443 Validation error: 0.15485564304461943\n",
      "[Epoch 18] Training loss: 0.2686176120021667 Training error: 0.08601444517399869\n",
      "[Epoch 18] Validation loss: 0.5468624830245972 Validation error: 0.17060367454068243\n",
      "[Epoch 19] Training loss: 0.258294678172702 Training error: 0.0912672357189757\n",
      "[Epoch 19] Validation loss: 0.694474995136261 Validation error: 0.2335958005249344\n",
      "[Epoch 20] Training loss: 0.3086087273987828 Training error: 0.10439921208141825\n",
      "[Epoch 20] Validation loss: 0.46729812026023865 Validation error: 0.15485564304461943\n",
      "Finished Training\n",
      "Total time elapsed: 133.96 seconds\n"
     ]
    }
   ],
   "source": [
    "#training_featuresRN,training_labelsRN,val_featuresRN,val_labelsRN,test_featuresRN,test_labelsRN = getFeaturesAndLabelsRN(batch_size=32)\n",
    "model = FeatureClassifierRN()\n",
    "train_net2(model, training_featuresRN, training_labelsRN, val_featuresRN, val_labelsRN, batch_size=32, num_epochs=20, learning_rate=0.008)"
   ]
  },
  {
   "cell_type": "code",
   "execution_count": 185,
   "metadata": {},
   "outputs": [
    {
     "name": "stdout",
     "output_type": "stream",
     "text": [
      "[Epoch 1] Training loss: 2.185886215240018 Training error: 0.8516086671043992\n",
      "[Epoch 1] Validation loss: 2.0489437580108643 Validation error: 0.7217847769028871\n",
      "[Epoch 2] Training loss: 1.9447720603416878 Training error: 0.6007879185817465\n",
      "[Epoch 2] Validation loss: 1.7729930877685547 Validation error: 0.5144356955380578\n",
      "[Epoch 3] Training loss: 1.6433510733370866 Training error: 0.47340774786605383\n",
      "[Epoch 3] Validation loss: 1.4432474374771118 Validation error: 0.4041994750656168\n",
      "[Epoch 4] Training loss: 1.3383959283659665 Training error: 0.40380827314510837\n",
      "[Epoch 4] Validation loss: 1.216779112815857 Validation error: 0.3858267716535433\n",
      "[Epoch 5] Training loss: 1.1275569793039923 Training error: 0.3604727511490479\n",
      "[Epoch 5] Validation loss: 1.0845685005187988 Validation error: 0.3858267716535433\n",
      "[Epoch 6] Training loss: 0.9746771628967806 Training error: 0.3230466185160867\n",
      "[Epoch 6] Validation loss: 0.9474554657936096 Validation error: 0.34120734908136485\n",
      "[Epoch 7] Training loss: 0.8500802033212101 Training error: 0.2777413000656599\n",
      "[Epoch 7] Validation loss: 0.8503340482711792 Validation error: 0.30446194225721784\n",
      "[Epoch 8] Training loss: 0.7692961364064809 Training error: 0.26001313197636244\n",
      "[Epoch 8] Validation loss: 0.7499501705169678 Validation error: 0.27034120734908135\n",
      "[Epoch 9] Training loss: 0.6964417155134937 Training error: 0.23637557452396585\n",
      "[Epoch 9] Validation loss: 0.7272505760192871 Validation error: 0.2440944881889764\n",
      "[Epoch 10] Training loss: 0.6525905907193219 Training error: 0.21470781352593565\n",
      "[Epoch 10] Validation loss: 0.6908724904060364 Validation error: 0.2572178477690289\n",
      "[Epoch 11] Training loss: 0.597865382073666 Training error: 0.19566644780039397\n",
      "[Epoch 11] Validation loss: 0.6769545078277588 Validation error: 0.27034120734908135\n",
      "[Epoch 12] Training loss: 0.571955384663352 Training error: 0.1969796454366382\n",
      "[Epoch 12] Validation loss: 0.6280407905578613 Validation error: 0.2125984251968504\n",
      "[Epoch 13] Training loss: 0.5534515981993546 Training error: 0.1845042678923178\n",
      "[Epoch 13] Validation loss: 0.6428527235984802 Validation error: 0.22572178477690288\n",
      "[Epoch 14] Training loss: 0.5192421971381845 Training error: 0.1680892974392646\n",
      "[Epoch 14] Validation loss: 0.6011777520179749 Validation error: 0.2283464566929134\n",
      "[Epoch 15] Training loss: 0.4817584658326558 Training error: 0.16283650689428758\n",
      "[Epoch 15] Validation loss: 0.611433207988739 Validation error: 0.2099737532808399\n",
      "[Epoch 16] Training loss: 0.43380037985267567 Training error: 0.13985554826001312\n",
      "[Epoch 16] Validation loss: 0.5761218070983887 Validation error: 0.2099737532808399\n",
      "[Epoch 17] Training loss: 0.4298305799518067 Training error: 0.13591595535128037\n",
      "[Epoch 17] Validation loss: 0.5809190273284912 Validation error: 0.2099737532808399\n",
      "[Epoch 18] Training loss: 0.4129451218202407 Training error: 0.139198949441891\n",
      "[Epoch 18] Validation loss: 0.5780966877937317 Validation error: 0.2073490813648294\n",
      "[Epoch 19] Training loss: 0.39154720744723487 Training error: 0.13263296126066973\n",
      "[Epoch 19] Validation loss: 0.5339722037315369 Validation error: 0.1968503937007874\n",
      "[Epoch 20] Training loss: 0.365560390099208 Training error: 0.11162179908076166\n",
      "[Epoch 20] Validation loss: 0.5834500193595886 Validation error: 0.1968503937007874\n",
      "[Epoch 21] Training loss: 0.3602723229972454 Training error: 0.11556139198949442\n",
      "[Epoch 21] Validation loss: 0.5347520112991333 Validation error: 0.1889763779527559\n",
      "[Epoch 22] Training loss: 0.36348841085452743 Training error: 0.11884438608010506\n",
      "[Epoch 22] Validation loss: 0.503603458404541 Validation error: 0.17060367454068243\n",
      "[Epoch 23] Training loss: 0.31877369169960346 Training error: 0.09783322390019698\n",
      "[Epoch 23] Validation loss: 0.5317018032073975 Validation error: 0.18635170603674542\n",
      "[Epoch 24] Training loss: 0.3211746516387398 Training error: 0.10439921208141825\n",
      "[Epoch 24] Validation loss: 0.5222086310386658 Validation error: 0.19160104986876642\n",
      "[Epoch 25] Training loss: 0.3038565572436828 Training error: 0.09520682862770848\n",
      "[Epoch 25] Validation loss: 0.5354028940200806 Validation error: 0.18110236220472442\n",
      "[Epoch 26] Training loss: 0.29316965655441435 Training error: 0.08864084044648719\n",
      "[Epoch 26] Validation loss: 0.485470712184906 Validation error: 0.16010498687664043\n",
      "[Epoch 27] Training loss: 0.29270325408354453 Training error: 0.09258043335521995\n",
      "[Epoch 27] Validation loss: 0.48099347949028015 Validation error: 0.1837270341207349\n",
      "[Epoch 28] Training loss: 0.27932561297050373 Training error: 0.08076165462902167\n",
      "[Epoch 28] Validation loss: 0.4518243968486786 Validation error: 0.15223097112860892\n",
      "[Epoch 29] Training loss: 0.26397380465672193 Training error: 0.08470124753775443\n",
      "[Epoch 29] Validation loss: 0.44427669048309326 Validation error: 0.15748031496062992\n",
      "[Epoch 30] Training loss: 0.24204452524667341 Training error: 0.07025607353906763\n",
      "[Epoch 30] Validation loss: 0.4476131200790405 Validation error: 0.14960629921259844\n",
      "Finished Training\n",
      "Total time elapsed: 127.73 seconds\n"
     ]
    }
   ],
   "source": [
    "model = FeatureClassifierRN()\n",
    "train_net2(model, training_featuresRN, training_labelsRN, val_featuresRN, val_labelsRN, batch_size=128, num_epochs=30, learning_rate=0.005)"
   ]
  },
  {
   "cell_type": "code",
   "execution_count": 196,
   "metadata": {},
   "outputs": [
    {
     "name": "stdout",
     "output_type": "stream",
     "text": [
      "Test error for network 'FeatureClassifierRN' : 13.66%\n",
      "              precision    recall  f1-score   support\n",
      "\n",
      "           0       0.96      0.83      0.89        59\n",
      "           1       0.90      0.93      0.92        60\n",
      "           2       0.86      0.95      0.90        60\n",
      "           3       0.90      0.75      0.82        60\n",
      "           4       0.87      0.97      0.91        60\n",
      "           5       0.90      0.73      0.81        60\n",
      "           6       0.81      0.93      0.87        60\n",
      "           7       0.92      0.77      0.84        60\n",
      "           8       0.70      0.92      0.79        48\n",
      "\n",
      "    accuracy                           0.86       527\n",
      "   macro avg       0.87      0.86      0.86       527\n",
      "weighted avg       0.87      0.86      0.86       527\n",
      "\n"
     ]
    },
    {
     "data": {
      "text/plain": [
       "0.1366223908918406"
      ]
     },
     "execution_count": 196,
     "metadata": {},
     "output_type": "execute_result"
    }
   ],
   "source": [
    "#eval the best model on test set\n",
    "evaluate3(model,test_featuresRN,test_labelsRN)"
   ]
  },
  {
   "cell_type": "code",
   "execution_count": 207,
   "metadata": {},
   "outputs": [
    {
     "name": "stdout",
     "output_type": "stream",
     "text": [
      "When comparing the similar network (Alexnet) to the different network (ResNet), there are a few things we can immediately notice. First, it's important to note that ResNet is generally a deeper and more complex architecture than AlexNet, which means that it will likely require more computational resources to train and may take longer to converge. We see this in the above code, where training times were up to 130s, nearly double that of the AlexNet network (60-70s). This is in line with our expectations, since AlexNet is a relatively shallow architecture that can be trained with less computational resources.\n",
      "\n",
      "Given the differences in architecture, with ResNet being much deeper, we would have anticipated that it would have a better performance than AlexNet, but we see a higher test error of 0.1366, compared to 0.0816 with AlexNet, despite several attempts at tuning. This goes against what we would expect, since in the literature ResNet has been shown to perform better than AlexNet on many image classification tasks, particularly on very deep networks. This would seem to perhaps indicate that the depth of the ResNet network is not well suited to the problem of classifying hand gesture images, particularly with the small datasets we are working with here. \n",
      "\n",
      "In general, the type of tradeoff I would expect to see in this situation, is that ResNet, if better tuned, might be capable of increasing the model performance, but at the cost of significantly greater computational resources and time. AlexNet, on the other hand can provide good performance at minimal cost to computational resources. The decision for which route to choose will depend on the desired accuracy and computational resources available. \n",
      "\n",
      "Model architectures can vary greatly, and so we would also expect this tradeoff to change as the similarity of architectures change. ResNet and AlexNet are very different in terms of their architecture, but using architectures that are more similar in nature would allow us to find some sort of middle ground between the 2 tradeoff extremes. In this way, we can essentially tune the performance of our model and the computational resources used (between 2 extremes) by changing the architecture to be more or less similar to the baseline. \n",
      "\n",
      "\n"
     ]
    }
   ],
   "source": [
    "print('''When comparing the similar network (Alexnet) to the different network (ResNet), there are a few things we can immediately notice. First, it's important to note that ResNet is generally a deeper and more complex architecture than AlexNet, which means that it will likely require more computational resources to train and may take longer to converge. We see this in the above code, where training times were up to 130s, nearly double that of the AlexNet network (60-70s). This is in line with our expectations, since AlexNet is a relatively shallow architecture that can be trained with less computational resources.\n",
    "\n",
    "Given the differences in architecture, with ResNet being much deeper, we would have anticipated that it would have a better performance than AlexNet, but we see a higher test error of 0.1366, compared to 0.0816 with AlexNet, despite several attempts at tuning. This goes against what we would expect, since in the literature ResNet has been shown to perform better than AlexNet on many image classification tasks, particularly on very deep networks. This would seem to perhaps indicate that the depth of the ResNet network is not well suited to the problem of classifying hand gesture images, particularly with the small datasets we are working with here. \n",
    "\n",
    "In general, the type of tradeoff I would expect to see in this situation, is that ResNet, if better tuned, might be capable of increasing the model performance, but at the cost of significantly greater computational resources and time. AlexNet, on the other hand can provide good performance at minimal cost to computational resources. The decision for which route to choose will depend on the desired accuracy and computational resources available. \n",
    "\n",
    "Model architectures can vary greatly, and so we would also expect this tradeoff to change as the similarity of architectures change. ResNet and AlexNet are very different in terms of their architecture, but using architectures that are more similar in nature would allow us to find some sort of middle ground between the 2 tradeoff extremes. In this way, we can essentially tune the performance of our model and the computational resources used (between 2 extremes) by changing the architecture to be more or less similar to the baseline. \n",
    "\n",
    "''')"
   ]
  },
  {
   "cell_type": "markdown",
   "metadata": {
    "id": "FYwI4RmFS2RB"
   },
   "source": [
    "### Saving to HTML\n",
    "Detailed instructions for saving to HTML can be found <a href=\"https://stackoverflow.com/questions/53460051/convert-ipynb-notebook-to-html-in-google-colab/64487858#64487858\">here</a>. Provided below are a summary of the instructions:\n",
    "\n",
    "(1) download your ipynb file by clicking on File->Download.ipynb\n",
    "\n",
    "(2) reupload your file to the temporary Google Colab storage (you can access the temporary storage from the tab to the left)\n",
    "\n",
    "(3) run the following:"
   ]
  },
  {
   "cell_type": "code",
   "execution_count": 208,
   "metadata": {
    "id": "2TrsqdNgS5ex"
   },
   "outputs": [
    {
     "name": "stderr",
     "output_type": "stream",
     "text": [
      "UsageError: Cell magic `%%shell` not found.\n"
     ]
    }
   ],
   "source": [
    "%%shell\n",
    "jupyter nbconvert --to html LAB_2_Hand_Gesture_Recognition.ipynb"
   ]
  },
  {
   "cell_type": "markdown",
   "metadata": {
    "id": "nuXhlFlPTY7F"
   },
   "source": [
    "(4) the html file will be available for download in the temporary Google Colab storage\n",
    "\n",
    "(5) review the html file and make sure all the results are visible before submitting your assignment to Quercus"
   ]
  }
 ],
 "metadata": {
  "colab": {
   "collapsed_sections": [],
   "name": "LAB_2_Hand_Gesture_Recognition.ipynb",
   "provenance": []
  },
  "kernelspec": {
   "display_name": "Python 3",
   "language": "python",
   "name": "python3"
  },
  "language_info": {
   "codemirror_mode": {
    "name": "ipython",
    "version": 3
   },
   "file_extension": ".py",
   "mimetype": "text/x-python",
   "name": "python",
   "nbconvert_exporter": "python",
   "pygments_lexer": "ipython3",
   "version": "3.10.8"
  },
  "vscode": {
   "interpreter": {
    "hash": "bb4a29341628cbe3ce031fbd27b28e98af62a3b02e8c52711d3781ce982c1932"
   }
  }
 },
 "nbformat": 4,
 "nbformat_minor": 1
}
